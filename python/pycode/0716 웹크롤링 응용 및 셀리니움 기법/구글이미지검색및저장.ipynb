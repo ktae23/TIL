{
 "cells": [
  {
   "cell_type": "code",
   "execution_count": 6,
   "id": "4e50a7a9",
   "metadata": {},
   "outputs": [],
   "source": [
    "from selenium import webdriver\n",
    "from bs4 import BeautifulSoup as bs\n",
    "import urllib.request\n",
    "import os\n",
    "from tqdm import tqdm\n",
    "import time"
   ]
  },
  {
   "cell_type": "code",
   "execution_count": 15,
   "id": "d3866116",
   "metadata": {},
   "outputs": [
    {
     "name": "stdout",
     "output_type": "stream",
     "text": [
      "검색 이미지 검색어를 입력하세요.강아지\n"
     ]
    }
   ],
   "source": [
    "keyword=input('검색 이미지 검색어를 입력하세요.')\n",
    "\n",
    "url=\"https://www.google.com/search?q=\"+keyword\n",
    "url=url+\"&rlz=1C1CHBD_koKR943KR943&sxsrf=ALeKk037tHKhmpuSVS0MH-gEqtMXMU64dg:1626412085656&source=lnms&tbm=isch&sa=X&ved=2ahUKEwizw_6U6ebxAhUVyYsBHfYHBtwQ_AUoAXoECAEQAw&biw=2660&bih=1515&dpr=1.2\"\n",
    "\n",
    "driver = webdriver.Chrome('C:/pydata/chromedriver.exe')\n",
    "driver.get(url)\n",
    "time.sleep(2)\n",
    "\n",
    "for i in range(10):\n",
    "    \n",
    "    if i == 5:\n",
    "        # 더보기 버튼 클릭\n",
    "        driver.find_element_by_css_selector(\"#islmp > div > div > div > div.gBPM8 > div.qvfT1 > div.YstHxe > input\").click()\n",
    "        time.sleep(2)\n",
    "    \n",
    "    driver.execute_script(\"window.scrollTo(0, document.body.scrollHeight);\") \n",
    "    time.sleep(2)\n",
    "   "
   ]
  },
  {
   "cell_type": "code",
   "execution_count": 18,
   "id": "3ef032f3",
   "metadata": {},
   "outputs": [
    {
     "data": {
      "text/plain": [
       "('c:/pydata/강아지_1.jpg', <email.message.Message at 0x171d34cc280>)"
      ]
     },
     "execution_count": 18,
     "metadata": {},
     "output_type": "execute_result"
    }
   ],
   "source": [
    "html_source=driver.page_source\n",
    "soup=bs(html_source, \"html.parser\")\n",
    "\n",
    "img_soup=soup.select(\"img.rg_i.Q4LuWd\")\n",
    "img_url=img_soup[0][\"src\"]\n",
    "\n",
    "urllib.request.urlretrieve(img_url, \"c:/pydata/\"+keyword+\"_1.jpg\")  # url에 있는 이미지 가져와 저장하기"
   ]
  },
  {
   "cell_type": "code",
   "execution_count": 19,
   "id": "b4792e2f",
   "metadata": {},
   "outputs": [
    {
     "data": {
      "text/plain": [
       "('c:/pydata/강아지_2.jpg', <http.client.HTTPMessage at 0x171d09d8880>)"
      ]
     },
     "execution_count": 19,
     "metadata": {},
     "output_type": "execute_result"
    }
   ],
   "source": [
    "urllib.request.urlretrieve(\"http://image.dongascience.com/Photo/2020/03/5bddba7b6574b95d37b6079c199d7101.jpg\", \"c:/pydata/\"+keyword+\"_2.jpg\")"
   ]
  },
  {
   "cell_type": "code",
   "execution_count": 23,
   "id": "cd603c85",
   "metadata": {},
   "outputs": [
    {
     "name": "stderr",
     "output_type": "stream",
     "text": [
      "링크=: 100%|█████████████████████████████████████████████████████████████████████| 861/861 [00:00<00:00, 863739.71it/s]\n"
     ]
    }
   ],
   "source": [
    "html_source=driver.page_source\n",
    "soup=bs(html_source, \"html.parser\")\n",
    "\n",
    "img_soup=soup.select(\"img.rg_i.Q4LuWd\")\n",
    "\n",
    "img_list=[]\n",
    "\n",
    "for img in tqdm(img_soup, desc=\"링크=\"):\n",
    "    try:\n",
    "        img_list.append(img['src'])\n",
    "    except:\n",
    "        img_list.append(img['data-src'])"
   ]
  },
  {
   "cell_type": "code",
   "execution_count": 24,
   "id": "9d274323",
   "metadata": {},
   "outputs": [
    {
     "name": "stdout",
     "output_type": "stream",
     "text": [
      "중복 제거전 사진수: 861\n",
      "중복 제거후 사진수: 861\n"
     ]
    }
   ],
   "source": [
    "print(\"중복 제거전 사진수:\", len(img_list))\n",
    "img_list=set(img_list)   # 중복 제거\n",
    "print(\"중복 제거후 사진수:\", len(img_list))"
   ]
  },
  {
   "cell_type": "markdown",
   "id": "5266aae3",
   "metadata": {},
   "source": [
    "### 저장 폴더 확인 및 생성"
   ]
  },
  {
   "cell_type": "code",
   "execution_count": 66,
   "id": "784a6afa",
   "metadata": {},
   "outputs": [
    {
     "name": "stdout",
     "output_type": "stream",
     "text": [
      "강아지0 로 폴더 생성\n"
     ]
    }
   ],
   "source": [
    "fDir=\"c:/pydata/image/\"\n",
    "fName=os.listdir(fDir)\n",
    "\n",
    "### 저장할 폴더 존재여부 확인\n",
    "fName_dir=keyword+\"0\"\n",
    "cnt=0\n",
    "\n",
    "while True:\n",
    "    if fName_dir not in fName:        # 새로 생성한 폴더가 현재 저장 위치에 있다/없다 결정\n",
    "        os.makedirs(fDir+fName_dir)   # 없으면 현재 이름으로 폴더 생성\n",
    "        break                         # 폴더 생성 후 while 문 빠져나가기\n",
    "    cnt+=1                            \n",
    "    fName_dir=keyword+str(cnt)        # 새로운 폴더명 생성\n",
    "      \n",
    "print(fName_dir,\"로 폴더 생성\")"
   ]
  },
  {
   "cell_type": "markdown",
   "id": "ad0f71c9",
   "metadata": {},
   "source": [
    "### 생성 폴더에 검색 이미지 저장"
   ]
  },
  {
   "cell_type": "code",
   "execution_count": 69,
   "id": "6492b2c0",
   "metadata": {},
   "outputs": [
    {
     "name": "stderr",
     "output_type": "stream",
     "text": [
      "100%|████████████████████████████████████████████████████████████████████████████████| 861/861 [02:31<00:00,  5.68it/s]\n"
     ]
    },
    {
     "name": "stdout",
     "output_type": "stream",
     "text": [
      "검색 이미지 저장 완료\n"
     ]
    }
   ],
   "source": [
    "cnt=0\n",
    "for img in tqdm(img_list):\n",
    "    sfdir = fDir + fName_dir + \"/\"+keyword +str(cnt)+'.jpg'   # 저장 경로와 파일명 설정\n",
    "    urllib.request.urlretrieve(img, sfdir)   # 이미지 저장하기\n",
    "    cnt+=1\n",
    "    \n",
    "driver.close()\n",
    "print('검색 이미지 저장 완료')"
   ]
  },
  {
   "cell_type": "code",
   "execution_count": 75,
   "id": "e12f6c71",
   "metadata": {},
   "outputs": [
    {
     "name": "stdout",
     "output_type": "stream",
     "text": [
      "%EC%BD%94%EB%A1%9C%EB%82%98\n",
      "코로나\n"
     ]
    }
   ],
   "source": [
    "from urllib.parse import quote, unquote\n",
    "print(quote(\"코로나\"))\n",
    "print(unquote(\"%EC%BD%94%EB%A1%9C%EB%82%98\"))"
   ]
  },
  {
   "cell_type": "code",
   "execution_count": null,
   "id": "df16d006",
   "metadata": {},
   "outputs": [],
   "source": []
  }
 ],
 "metadata": {
  "kernelspec": {
   "display_name": "Python 3",
   "language": "python",
   "name": "python3"
  },
  "language_info": {
   "codemirror_mode": {
    "name": "ipython",
    "version": 3
   },
   "file_extension": ".py",
   "mimetype": "text/x-python",
   "name": "python",
   "nbconvert_exporter": "python",
   "pygments_lexer": "ipython3",
   "version": "3.9.5"
  }
 },
 "nbformat": 4,
 "nbformat_minor": 5
}
