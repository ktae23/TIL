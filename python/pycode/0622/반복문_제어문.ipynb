{
 "cells": [
  {
   "cell_type": "markdown",
   "id": "31e8bd73",
   "metadata": {},
   "source": [
    "### 반복문(for)"
   ]
  },
  {
   "cell_type": "code",
   "execution_count": 1,
   "id": "b30c0c3b",
   "metadata": {},
   "outputs": [],
   "source": [
    "inName=['홍길동', '박변수', '김수진', '허순이', '서정동']\n",
    "inAge=[33, 28, 49, 52, 54]"
   ]
  },
  {
   "cell_type": "code",
   "execution_count": 4,
   "id": "db7e6f46",
   "metadata": {},
   "outputs": [
    {
     "name": "stdout",
     "output_type": "stream",
     "text": [
      "안녕하세요. 홍길동님\n",
      "안녕하세요. 박변수님\n",
      "안녕하세요. 김수진님\n",
      "안녕하세요. 허순이님\n",
      "안녕하세요. 서정동님\n"
     ]
    }
   ],
   "source": [
    "print(f'안녕하세요. {inName[0]}님')\n",
    "print(f'안녕하세요. {inName[1]}님')\n",
    "print(f'안녕하세요. {inName[2]}님')\n",
    "print(f'안녕하세요. {inName[3]}님')\n",
    "print(f'안녕하세요. {inName[4]}님')"
   ]
  },
  {
   "cell_type": "code",
   "execution_count": 5,
   "id": "92f278ab",
   "metadata": {},
   "outputs": [
    {
     "data": {
      "text/plain": [
       "['홍길동', '박변수', '김수진', '허순이', '서정동']"
      ]
     },
     "execution_count": 5,
     "metadata": {},
     "output_type": "execute_result"
    }
   ],
   "source": [
    "inName"
   ]
  },
  {
   "cell_type": "markdown",
   "id": "44a9fbe3",
   "metadata": {},
   "source": [
    "#### for 변수 in 순차 데이터:"
   ]
  },
  {
   "cell_type": "code",
   "execution_count": 7,
   "id": "0d489a17",
   "metadata": {},
   "outputs": [
    {
     "name": "stdout",
     "output_type": "stream",
     "text": [
      "안녕하세요. 홍길동님\n",
      "안녕하세요. 박변수님\n",
      "안녕하세요. 김수진님\n",
      "안녕하세요. 허순이님\n",
      "안녕하세요. 서정동님\n",
      "===== End =====\n",
      "서정동\n"
     ]
    }
   ],
   "source": [
    "for name in inName:\n",
    "    print(f'안녕하세요. {name}님')\n",
    "    \n",
    "print(\"===== End =====\")\n",
    "print(name)\n",
    "del name    # 메모리에서 해당 개체(변수) 삭제"
   ]
  },
  {
   "cell_type": "code",
   "execution_count": 9,
   "id": "3eae946d",
   "metadata": {},
   "outputs": [],
   "source": [
    "inName=['홍길동', '박변수', '김수진', '허순이', '서정동']\n",
    "inAge=[33, 28, 49, 52, 54]"
   ]
  },
  {
   "cell_type": "code",
   "execution_count": 12,
   "id": "3e4ab36c",
   "metadata": {},
   "outputs": [
    {
     "name": "stdout",
     "output_type": "stream",
     "text": [
      "이름: 홍길동, 나이: 33\n",
      "이름: 박변수, 나이: 28\n",
      "이름: 김수진, 나이: 49\n",
      "이름: 허순이, 나이: 52\n",
      "이름: 서정동, 나이: 54\n"
     ]
    }
   ],
   "source": [
    "print(f'이름: {inName[0]}, 나이: {inAge[0]}')\n",
    "print(f'이름: {inName[1]}, 나이: {inAge[1]}')\n",
    "print(f'이름: {inName[2]}, 나이: {inAge[2]}')\n",
    "print(f'이름: {inName[3]}, 나이: {inAge[3]}')\n",
    "print(f'이름: {inName[4]}, 나이: {inAge[4]}')"
   ]
  },
  {
   "cell_type": "markdown",
   "id": "39f2af82",
   "metadata": {},
   "source": [
    "#### for 변수 in range():\n",
    "- range(10) => 0 부터 시작해서 10개의 정수형 숫자 생성\n",
    "- range(5,10) => 0 부터 시작해서 10개의 정수형 숫자 생성하고 5부터 출력\n",
    "- range(1,10,2) => 0 부터 시작해서 10개의 정수형 숫자 생성하고 1부터 2씩 증가하면서 출력"
   ]
  },
  {
   "cell_type": "code",
   "execution_count": 20,
   "id": "70cc7be0",
   "metadata": {},
   "outputs": [
    {
     "name": "stdout",
     "output_type": "stream",
     "text": [
      "[0, 1, 2, 3, 4, 5, 6, 7, 8, 9]\n",
      "[5, 6, 7, 8, 9]\n",
      "[2, 4, 6, 8]\n",
      "[0, 1, 2, 3, 4]\n"
     ]
    }
   ],
   "source": [
    "print(list(range(10)))      # list() : 데이터를 리스트형 자료로 변경\n",
    "print(list(range(5, 10)))\n",
    "print(list(range(2, 10, 2)))\n",
    "\n",
    "print(list(range(5))) "
   ]
  },
  {
   "cell_type": "code",
   "execution_count": 21,
   "id": "a7dcab56",
   "metadata": {
    "scrolled": true
   },
   "outputs": [
    {
     "name": "stdout",
     "output_type": "stream",
     "text": [
      "이름: 홍길동, 나이: 33\n",
      "이름: 박변수, 나이: 28\n",
      "이름: 김수진, 나이: 49\n",
      "이름: 허순이, 나이: 52\n",
      "이름: 서정동, 나이: 54\n",
      "===== 끝 =====\n"
     ]
    }
   ],
   "source": [
    "for i in range(5):\n",
    "    print(f'이름: {inName[i]}, 나이: {inAge[i]}')\n",
    "    \n",
    "print(\"===== 끝 =====\")"
   ]
  },
  {
   "cell_type": "markdown",
   "id": "68f73b6d",
   "metadata": {},
   "source": [
    "### Picture 폴더의 이미지 정보 가져와 저장하기\n",
    "- PIL의 Image 모듈 : 이미지 처리 모듈\n",
    "- os 모듈 : 사용중인 시스템 모듈"
   ]
  },
  {
   "cell_type": "code",
   "execution_count": 22,
   "id": "2aaf63a6",
   "metadata": {},
   "outputs": [],
   "source": [
    "from PIL import Image\n",
    "import os"
   ]
  },
  {
   "cell_type": "code",
   "execution_count": 32,
   "id": "001f8bdf",
   "metadata": {},
   "outputs": [
    {
     "name": "stdout",
     "output_type": "stream",
     "text": [
      "['img1.jpg', 'img10.jpg', 'img11.jpg', 'img12.jpg', 'img13.jpg', 'img14.jpg', 'img15.jpg', 'img16.jpg', 'img17.jpg', 'img18.jpg', 'img19.jpg', 'img2.jpg', 'img20.jpg', 'img21.jpg', 'img22.jpg', 'img23.jpg', 'img24.jpg', 'img25.jpg', 'img26.jpg', 'img27.jpg', 'img28.jpg', 'img29.jpg', 'img3.jpg', 'img30.jpg', 'img4.jpg', 'img5.jpg', 'img6.jpg', 'img7.jpg', 'img8.jpg', 'img9.jpg', 'pic1.jpg', 'pic2.jpg', 'pic3.jpg']\n",
      "\n",
      "./picture/img1.jpg\n"
     ]
    }
   ],
   "source": [
    "fileDir=\"./picture/\"\n",
    "fileName=os.listdir(fileDir)\n",
    "print(fileName)\n",
    "print()\n",
    "print(fileDir+fileName[0])"
   ]
  },
  {
   "cell_type": "code",
   "execution_count": 30,
   "id": "43a585b1",
   "metadata": {},
   "outputs": [
    {
     "name": "stdout",
     "output_type": "stream",
     "text": [
      "파일명: img1.jpg, 사이즈: (377, 400)\n",
      "파일명: img10.jpg, 사이즈: (599, 400)\n",
      "파일명: img12.jpg, 사이즈: (411, 400)\n",
      "파일명: img13.jpg, 사이즈: (623, 400)\n",
      "파일명: img14.jpg, 사이즈: (533, 400)\n"
     ]
    }
   ],
   "source": [
    "tmp=Image.open(fileDir+fileName[0])\n",
    "print(f'파일명: {fileName[0]}, 사이즈: {tmp.size}')\n",
    "tmp=Image.open(fileDir+fileName[1])\n",
    "print(f'파일명: {fileName[1]}, 사이즈: {tmp.size}')\n",
    "tmp=Image.open(fileDir+fileName[2])\n",
    "print(f'파일명: {fileName[3]}, 사이즈: {tmp.size}')\n",
    "tmp=Image.open(fileDir+fileName[4])\n",
    "print(f'파일명: {fileName[4]}, 사이즈: {tmp.size}')\n",
    "tmp=Image.open(fileDir+fileName[5])\n",
    "print(f'파일명: {fileName[5]}, 사이즈: {tmp.size}')"
   ]
  },
  {
   "cell_type": "code",
   "execution_count": 36,
   "id": "cb0646d5",
   "metadata": {
    "scrolled": true
   },
   "outputs": [
    {
     "name": "stdout",
     "output_type": "stream",
     "text": [
      "파일명: img1.jpg, 사이즈: (377, 400)\n",
      "파일명: img10.jpg, 사이즈: (599, 400)\n",
      "파일명: img11.jpg, 사이즈: (411, 400)\n",
      "파일명: img12.jpg, 사이즈: (356, 400)\n",
      "파일명: img13.jpg, 사이즈: (623, 400)\n",
      "파일명: img14.jpg, 사이즈: (533, 400)\n",
      "파일명: img15.jpg, 사이즈: (511, 400)\n",
      "파일명: img16.jpg, 사이즈: (333, 400)\n",
      "파일명: img17.jpg, 사이즈: (533, 400)\n",
      "파일명: img18.jpg, 사이즈: (603, 400)\n",
      "파일명: img19.jpg, 사이즈: (600, 400)\n",
      "파일명: img2.jpg, 사이즈: (433, 400)\n",
      "파일명: img20.jpg, 사이즈: (534, 400)\n",
      "파일명: img21.jpg, 사이즈: (519, 400)\n",
      "파일명: img22.jpg, 사이즈: (300, 400)\n",
      "파일명: img23.jpg, 사이즈: (534, 400)\n",
      "파일명: img24.jpg, 사이즈: (522, 400)\n",
      "파일명: img25.jpg, 사이즈: (534, 400)\n",
      "파일명: img26.jpg, 사이즈: (500, 400)\n",
      "파일명: img27.jpg, 사이즈: (640, 400)\n",
      "파일명: img28.jpg, 사이즈: (533, 400)\n",
      "파일명: img29.jpg, 사이즈: (641, 400)\n",
      "파일명: img3.jpg, 사이즈: (564, 400)\n",
      "파일명: img30.jpg, 사이즈: (300, 400)\n",
      "파일명: img4.jpg, 사이즈: (533, 400)\n",
      "파일명: img5.jpg, 사이즈: (537, 400)\n",
      "파일명: img6.jpg, 사이즈: (533, 400)\n",
      "파일명: img7.jpg, 사이즈: (510, 400)\n",
      "파일명: img8.jpg, 사이즈: (554, 400)\n",
      "파일명: img9.jpg, 사이즈: (533, 400)\n",
      "파일명: pic1.jpg, 사이즈: (512, 271)\n",
      "파일명: pic2.jpg, 사이즈: (630, 338)\n",
      "파일명: pic3.jpg, 사이즈: (275, 183)\n",
      "===== End =====\n"
     ]
    }
   ],
   "source": [
    "for fn in fileName:\n",
    "    tmp=Image.open(fileDir+fn)     # 정의된 파일 열어 tmp에 저장하기\n",
    "    # 파일명, tmp에 있는 이미지 사이즈 출력\n",
    "    print(f'파일명: {fn}, 사이즈: {tmp.size}') \n",
    "    \n",
    "print(\"===== End =====\")"
   ]
  },
  {
   "cell_type": "code",
   "execution_count": 46,
   "id": "0eee2529",
   "metadata": {},
   "outputs": [
    {
     "name": "stdout",
     "output_type": "stream",
     "text": [
      "1624328977.0747485\n"
     ]
    }
   ],
   "source": [
    "import time\n",
    "\n",
    "tm=time.time()\n",
    "print(tm)"
   ]
  },
  {
   "cell_type": "code",
   "execution_count": 63,
   "id": "5959c461",
   "metadata": {
    "scrolled": true
   },
   "outputs": [
    {
     "name": "stdout",
     "output_type": "stream",
     "text": [
      "파일명: img1.jpg, 가로: 377, 세로: 400\n",
      "파일명: img10.jpg, 가로: 599, 세로: 400\n",
      "파일명: img11.jpg, 가로: 411, 세로: 400\n",
      "파일명: img12.jpg, 가로: 356, 세로: 400\n",
      "파일명: img13.jpg, 가로: 623, 세로: 400\n",
      "파일명: img14.jpg, 가로: 533, 세로: 400\n",
      "파일명: img15.jpg, 가로: 511, 세로: 400\n",
      "파일명: img16.jpg, 가로: 333, 세로: 400\n",
      "파일명: img17.jpg, 가로: 533, 세로: 400\n",
      "파일명: img18.jpg, 가로: 603, 세로: 400\n",
      "파일명: img19.jpg, 가로: 600, 세로: 400\n",
      "파일명: img2.jpg, 가로: 433, 세로: 400\n",
      "파일명: img20.jpg, 가로: 534, 세로: 400\n",
      "파일명: img21.jpg, 가로: 519, 세로: 400\n",
      "파일명: img22.jpg, 가로: 300, 세로: 400\n",
      "파일명: img23.jpg, 가로: 534, 세로: 400\n",
      "파일명: img24.jpg, 가로: 522, 세로: 400\n",
      "파일명: img25.jpg, 가로: 534, 세로: 400\n",
      "파일명: img26.jpg, 가로: 500, 세로: 400\n",
      "파일명: img27.jpg, 가로: 640, 세로: 400\n",
      "파일명: img28.jpg, 가로: 533, 세로: 400\n",
      "파일명: img29.jpg, 가로: 641, 세로: 400\n",
      "파일명: img3.jpg, 가로: 564, 세로: 400\n",
      "파일명: img30.jpg, 가로: 300, 세로: 400\n",
      "파일명: img4.jpg, 가로: 533, 세로: 400\n",
      "파일명: img5.jpg, 가로: 537, 세로: 400\n",
      "파일명: img6.jpg, 가로: 533, 세로: 400\n",
      "파일명: img7.jpg, 가로: 510, 세로: 400\n",
      "파일명: img8.jpg, 가로: 554, 세로: 400\n",
      "파일명: img9.jpg, 가로: 533, 세로: 400\n",
      "파일명: pic1.jpg, 가로: 512, 세로: 271\n",
      "파일명: pic2.jpg, 가로: 630, 세로: 338\n",
      "파일명: pic3.jpg, 가로: 275, 세로: 183\n",
      "===== End =====\n",
      "0.007979631423950195\n"
     ]
    }
   ],
   "source": [
    "tm1=time.time()\n",
    "\n",
    "for fn in fileName:\n",
    "    tmp=Image.open(fileDir+fn)     # 정의된 파일 열어 tmp에 저장하기\n",
    "    # 파일명, tmp에 있는 이미지 사이즈 출력\n",
    "    print(f'파일명: {fn}, 가로: {tmp.size[0]}, 세로: {tmp.size[1]}') \n",
    "    \n",
    "print(\"===== End =====\")\n",
    "tm2=time.time()\n",
    "\n",
    "print(tm2-tm1)"
   ]
  },
  {
   "cell_type": "code",
   "execution_count": 53,
   "id": "5d65b1e2",
   "metadata": {
    "scrolled": true
   },
   "outputs": [
    {
     "name": "stdout",
     "output_type": "stream",
     "text": [
      "파일명: img1.jpg, 가로: 377, 세로: 400\n",
      "파일명: img10.jpg, 가로: 599, 세로: 400\n",
      "파일명: img11.jpg, 가로: 411, 세로: 400\n",
      "파일명: img12.jpg, 가로: 356, 세로: 400\n",
      "파일명: img13.jpg, 가로: 623, 세로: 400\n",
      "파일명: img14.jpg, 가로: 533, 세로: 400\n",
      "파일명: img15.jpg, 가로: 511, 세로: 400\n",
      "파일명: img16.jpg, 가로: 333, 세로: 400\n",
      "파일명: img17.jpg, 가로: 533, 세로: 400\n",
      "파일명: img18.jpg, 가로: 603, 세로: 400\n",
      "파일명: img19.jpg, 가로: 600, 세로: 400\n",
      "파일명: img2.jpg, 가로: 433, 세로: 400\n",
      "파일명: img20.jpg, 가로: 534, 세로: 400\n",
      "파일명: img21.jpg, 가로: 519, 세로: 400\n",
      "파일명: img22.jpg, 가로: 300, 세로: 400\n",
      "파일명: img23.jpg, 가로: 534, 세로: 400\n",
      "파일명: img24.jpg, 가로: 522, 세로: 400\n",
      "파일명: img25.jpg, 가로: 534, 세로: 400\n",
      "파일명: img26.jpg, 가로: 500, 세로: 400\n",
      "파일명: img27.jpg, 가로: 640, 세로: 400\n",
      "파일명: img28.jpg, 가로: 533, 세로: 400\n",
      "파일명: img29.jpg, 가로: 641, 세로: 400\n",
      "파일명: img3.jpg, 가로: 564, 세로: 400\n",
      "파일명: img30.jpg, 가로: 300, 세로: 400\n",
      "파일명: img4.jpg, 가로: 533, 세로: 400\n",
      "파일명: img5.jpg, 가로: 537, 세로: 400\n",
      "파일명: img6.jpg, 가로: 533, 세로: 400\n",
      "파일명: img7.jpg, 가로: 510, 세로: 400\n",
      "파일명: img8.jpg, 가로: 554, 세로: 400\n",
      "파일명: img9.jpg, 가로: 533, 세로: 400\n",
      "파일명: pic1.jpg, 가로: 512, 세로: 271\n",
      "파일명: pic2.jpg, 가로: 630, 세로: 338\n",
      "파일명: pic3.jpg, 가로: 275, 세로: 183\n",
      "===== End =====\n",
      "0.010970354080200195\n"
     ]
    }
   ],
   "source": [
    "tm1=time.time()\n",
    "\n",
    "for n in range(len(fileName)):\n",
    "    tmp=Image.open(fileDir+fileName[n])\n",
    "    print(f'파일명: {fileName[n]}, 가로: {tmp.size[0]}, 세로: {tmp.size[1]}')\n",
    "    \n",
    "print(\"===== End =====\")\n",
    "\n",
    "tm2=time.time()\n",
    "print(tm2-tm1)"
   ]
  },
  {
   "cell_type": "code",
   "execution_count": 54,
   "id": "49f9b26c",
   "metadata": {},
   "outputs": [
    {
     "name": "stdout",
     "output_type": "stream",
     "text": [
      "Variable   Type             Data/Info\n",
      "-------------------------------------\n",
      "Image      module           <module 'PIL.Image' from <...>packages\\\\PIL\\\\Image.py'>\n",
      "fileDir    str              ./picture/\n",
      "fileName   list             n=33\n",
      "fn         str              pic3.jpg\n",
      "i          int              4\n",
      "inAge      list             n=5\n",
      "inName     list             n=5\n",
      "n          int              32\n",
      "os         module           <module 'os' from 'C:\\\\Pr<...>envs\\\\multi\\\\lib\\\\os.py'>\n",
      "time       module           <module 'time' (built-in)>\n",
      "tm         float            1624328977.0747485\n",
      "tm1        float            1624329136.591799\n",
      "tm2        float            1624329136.6027694\n",
      "tmp        JpegImageFile    <PIL.JpegImagePlugin.Jpeg<...>275x183 at 0x1E5C82E8040>\n"
     ]
    }
   ],
   "source": [
    "whos"
   ]
  },
  {
   "cell_type": "markdown",
   "id": "a27c8b5f",
   "metadata": {},
   "source": [
    "### 제어문(if)"
   ]
  },
  {
   "cell_type": "code",
   "execution_count": 56,
   "id": "e71dddc4",
   "metadata": {},
   "outputs": [
    {
     "name": "stdout",
     "output_type": "stream",
     "text": [
      "숫자를 입력하세요:-100\n",
      "===== End =====\n"
     ]
    }
   ],
   "source": [
    "# input() : 사용자로부터 데이터를 입력받고자 할때 사용하는 함수\\\n",
    "#           모든 입력 데이터는 문자형 자료\n",
    "\n",
    "inData=int(input('숫자를 입력하세요:'))\n",
    "\n",
    "if inData > 0 :\n",
    "    print(\"0 보다 큰 값입니다.\")\n",
    "    \n",
    "print(\"===== End =====\")"
   ]
  },
  {
   "cell_type": "code",
   "execution_count": 59,
   "id": "7d2c31f2",
   "metadata": {},
   "outputs": [
    {
     "name": "stdout",
     "output_type": "stream",
     "text": [
      "숫자를 입력하세요:0\n",
      "===== End =====\n"
     ]
    }
   ],
   "source": [
    "inData=int(input('숫자를 입력하세요:'))\n",
    "\n",
    "if inData > 0 :\n",
    "    print(\"0 보다 큰 값입니다.\")\n",
    "elif inData<0:\n",
    "    print(\"0 보다 작은 값입니다.\")\n",
    "    \n",
    "print(\"===== End =====\")"
   ]
  },
  {
   "cell_type": "code",
   "execution_count": 62,
   "id": "3804bd72",
   "metadata": {},
   "outputs": [
    {
     "name": "stdout",
     "output_type": "stream",
     "text": [
      "숫자를 입력하세요:0\n",
      "0과 같은 값입니다.\n",
      "===== End =====\n"
     ]
    }
   ],
   "source": [
    "inData=int(input('숫자를 입력하세요:'))\n",
    "\n",
    "if inData > 0 :\n",
    "    print(\"0 보다 큰 값입니다.\")\n",
    "elif inData<0:\n",
    "    print(\"0 보다 작은 값입니다.\")\n",
    "else:\n",
    "    print(\"0과 같은 값입니다.\")\n",
    "    \n",
    "print(\"===== End =====\")"
   ]
  },
  {
   "cell_type": "code",
   "execution_count": 66,
   "id": "bc5c08e2",
   "metadata": {
    "scrolled": true
   },
   "outputs": [
    {
     "name": "stdout",
     "output_type": "stream",
     "text": [
      "파일명: img1.jpg, 가로: 377, 세로: 400\n",
      "파일명: img10.jpg, 가로: 599, 세로: 400\n",
      "파일명: img11.jpg, 가로: 411, 세로: 400\n",
      "파일명: img12.jpg, 가로: 356, 세로: 400\n",
      "파일명: img13.jpg, 가로: 623, 세로: 400\n",
      "파일명: img14.jpg, 가로: 533, 세로: 400\n",
      "파일명: img15.jpg, 가로: 511, 세로: 400\n",
      "파일명: img16.jpg, 가로: 333, 세로: 400\n",
      "파일명: img17.jpg, 가로: 533, 세로: 400\n",
      "파일명: img18.jpg, 가로: 603, 세로: 400\n",
      "파일명: img19.jpg, 가로: 600, 세로: 400\n",
      "파일명: img2.jpg, 가로: 433, 세로: 400\n",
      "파일명: img20.jpg, 가로: 534, 세로: 400\n",
      "파일명: img21.jpg, 가로: 519, 세로: 400\n",
      "파일명: img22.jpg, 가로: 300, 세로: 400\n",
      "파일명: img23.jpg, 가로: 534, 세로: 400\n",
      "파일명: img24.jpg, 가로: 522, 세로: 400\n",
      "파일명: img25.jpg, 가로: 534, 세로: 400\n",
      "파일명: img26.jpg, 가로: 500, 세로: 400\n",
      "파일명: img27.jpg, 가로: 640, 세로: 400\n",
      "파일명: img28.jpg, 가로: 533, 세로: 400\n",
      "파일명: img29.jpg, 가로: 641, 세로: 400\n",
      "파일명: img3.jpg, 가로: 564, 세로: 400\n",
      "파일명: img30.jpg, 가로: 300, 세로: 400\n",
      "파일명: img4.jpg, 가로: 533, 세로: 400\n",
      "파일명: img5.jpg, 가로: 537, 세로: 400\n",
      "파일명: img6.jpg, 가로: 533, 세로: 400\n",
      "파일명: img7.jpg, 가로: 510, 세로: 400\n",
      "파일명: img8.jpg, 가로: 554, 세로: 400\n",
      "파일명: img9.jpg, 가로: 533, 세로: 400\n",
      "파일명: pic1.jpg, 가로: 512, 세로: 271\n",
      "파일명: pic2.jpg, 가로: 630, 세로: 338\n",
      "파일명: pic3.jpg, 가로: 275, 세로: 183\n",
      "===== End =====\n"
     ]
    }
   ],
   "source": [
    "fileDir=\"./picture/\"\n",
    "fileName=os.listdir(fileDir)\n",
    "\n",
    "for fn in fileName:\n",
    "    if fn[-3:] == \"jpg\":\n",
    "        tmp=Image.open(fileDir+fn)     # 정의된 파일 열어 tmp에 저장하기\n",
    "        # 파일명, tmp에 있는 이미지 사이즈 출력\n",
    "        print(f'파일명: {fn}, 가로: {tmp.size[0]}, 세로: {tmp.size[1]}') \n",
    "    \n",
    "print(\"===== End =====\")"
   ]
  },
  {
   "cell_type": "markdown",
   "id": "6b589ab8",
   "metadata": {},
   "source": [
    "### images 폴더에서 강아지와 고양이 찾아내기\n",
    "- break: 반복문 영역을 벗어남\n",
    "- continue: 아래 문장을 실행하지 않고 for문으로 돌아가 다음 데이터 실행"
   ]
  },
  {
   "cell_type": "code",
   "execution_count": 86,
   "id": "4be5e607",
   "metadata": {},
   "outputs": [
    {
     "name": "stdout",
     "output_type": "stream",
     "text": [
      "['pic1.jpg', 'pic2.jpg', 'pic3.jpg', '강아지', '고양이', '연습.txt']\n",
      "===== End =====\n"
     ]
    }
   ],
   "source": [
    "from PIL import Image\n",
    "import os\n",
    "\n",
    "fileDir=\"./images/\"\n",
    "fileName=os.listdir(fileDir)\n",
    "print(fileName)\n",
    "\n",
    "for fn in fileName:\n",
    "    if fn[-3:] == \"jpg\":\n",
    "        tmp=Image.open(fileDir+fn)\n",
    "    else:\n",
    "        continue\n",
    "    \n",
    "    if fn[:3] == \"강아지\":\n",
    "        tmp.save(fileDir+\"강아지/\"+fn)\n",
    "    elif fn[:3] == \"고양이\":\n",
    "        tmp.save(fileDir+\"고양이/\"+fn)\n",
    "        \n",
    "print(\"===== End =====\")"
   ]
  },
  {
   "cell_type": "code",
   "execution_count": 99,
   "id": "fcabef55",
   "metadata": {},
   "outputs": [
    {
     "name": "stdout",
     "output_type": "stream",
     "text": [
      "['pic1.jpg', 'pic2.jpg', 'pic3.jpg', '강아지', '강아지1.jpg', '강아지10.jpg', '강아지2.jpg', '강아지3.jpg', '강아지4.jpg', '강아지5.jpg', '강아지6.jpg', '강아지7.jpg', '강아지8.jpg', '강아지9.jpg', '고양이', '고양이1.jpg', '고양이2.jpg', '고양이3.jpg', '고양이4.jpg', '고양이5.jpg', '고양이6.jpg', '연습.txt']\n",
      "==== 작업 완료 ====\n"
     ]
    }
   ],
   "source": [
    "from PIL import Image\n",
    "import os\n",
    "\n",
    "fileDir=\"./images/\"\n",
    "fileName=os.listdir(fileDir)\n",
    "print(fileName)\n",
    "\n",
    "for fn in fileName:\n",
    "    if fn[-3:] == \"jpg\":\n",
    "        tmp=Image.open(fileDir+fn)\n",
    "        if fn[:3] == \"강아지\":\n",
    "            tmp.save(fileDir+\"강아지/\"+fn)\n",
    "            #os.remove(fileDir+fn)\n",
    "        elif fn[:3] == \"고양이\":\n",
    "            tmp.save(fileDir+\"고양이/\"+fn)\n",
    "            #os.remove(fileDir+fn)\n",
    "            \n",
    "#del fn, tmp, fileDir, fileName\n",
    "print(\"==== 작업 완료 ====\")"
   ]
  },
  {
   "cell_type": "code",
   "execution_count": 100,
   "id": "916c648a",
   "metadata": {},
   "outputs": [
    {
     "data": {
      "text/plain": [
       "'./images/건양이/연습.txt'"
      ]
     },
     "execution_count": 100,
     "metadata": {},
     "output_type": "execute_result"
    }
   ],
   "source": [
    "fileDir+\"건양이/\"+fn"
   ]
  },
  {
   "cell_type": "code",
   "execution_count": 101,
   "id": "0dea3a46",
   "metadata": {
    "scrolled": true
   },
   "outputs": [
    {
     "data": {
      "text/plain": [
       "'./images/'"
      ]
     },
     "execution_count": 101,
     "metadata": {},
     "output_type": "execute_result"
    }
   ],
   "source": [
    "fileDir"
   ]
  },
  {
   "cell_type": "code",
   "execution_count": 102,
   "id": "8ea18310",
   "metadata": {},
   "outputs": [
    {
     "data": {
      "text/plain": [
       "'고양이/'"
      ]
     },
     "execution_count": 102,
     "metadata": {},
     "output_type": "execute_result"
    }
   ],
   "source": [
    "\"고양이/\""
   ]
  },
  {
   "cell_type": "code",
   "execution_count": 91,
   "id": "0b19615b",
   "metadata": {},
   "outputs": [
    {
     "data": {
      "text/plain": [
       "'고양이6.jpg'"
      ]
     },
     "execution_count": 91,
     "metadata": {},
     "output_type": "execute_result"
    }
   ],
   "source": [
    "fn"
   ]
  },
  {
   "cell_type": "code",
   "execution_count": 93,
   "id": "79471b2b",
   "metadata": {},
   "outputs": [
    {
     "data": {
      "text/plain": [
       "'./images/고양이/고양이6.jpg'"
      ]
     },
     "execution_count": 93,
     "metadata": {},
     "output_type": "execute_result"
    }
   ],
   "source": [
    "'./images/'+'고양이/'+'고양이6.jpg'"
   ]
  },
  {
   "cell_type": "code",
   "execution_count": 97,
   "id": "3d3f50c9",
   "metadata": {},
   "outputs": [],
   "source": [
    "tmp=Image.open('./images/'+'고양이/'+'고양이6.jpg')\n",
    "tmp.show()"
   ]
  },
  {
   "cell_type": "code",
   "execution_count": 108,
   "id": "2a52bd0c",
   "metadata": {},
   "outputs": [
    {
     "name": "stdout",
     "output_type": "stream",
     "text": [
      "파일명 pic1 , 확장자 jpg\n",
      "파일명 pic2 , 확장자 jpg\n",
      "파일명 pic3 , 확장자 jpg\n",
      "파일명 강아지1 , 확장자 jpg\n",
      "파일명 강아지10 , 확장자 jpg\n",
      "파일명 강아지2 , 확장자 jpg\n",
      "파일명 강아지3 , 확장자 jpg\n",
      "파일명 강아지4 , 확장자 jpg\n",
      "파일명 강아지5 , 확장자 jpg\n",
      "파일명 강아지6 , 확장자 jpg\n",
      "파일명 강아지7 , 확장자 jpg\n",
      "파일명 강아지8 , 확장자 jpg\n",
      "파일명 강아지9 , 확장자 jpg\n",
      "파일명 고양이1 , 확장자 jpg\n",
      "파일명 고양이2 , 확장자 jpg\n",
      "파일명 고양이3 , 확장자 jpg\n",
      "파일명 고양이4 , 확장자 jpg\n",
      "파일명 고양이5 , 확장자 jpg\n",
      "파일명 고양이6 , 확장자 jpg\n",
      "파일명 연습 , 확장자 txt\n"
     ]
    }
   ],
   "source": [
    "from PIL import Image\n",
    "import os\n",
    "\n",
    "fileDir=\"./images/\"\n",
    "fileName=os.listdir(fileDir)\n",
    "#print(fileName)\n",
    "\n",
    "for fn in fileName:\n",
    "    fns=fn.split(\".\")\n",
    "    if len(fns) == 1:\n",
    "        continue\n",
    "    else:\n",
    "        print(\"파일명\", fns[0], \", 확장자\", fns[1])\n",
    "    "
   ]
  },
  {
   "cell_type": "code",
   "execution_count": null,
   "id": "c66e890b",
   "metadata": {},
   "outputs": [],
   "source": []
  }
 ],
 "metadata": {
  "kernelspec": {
   "display_name": "Python 3",
   "language": "python",
   "name": "python3"
  },
  "language_info": {
   "codemirror_mode": {
    "name": "ipython",
    "version": 3
   },
   "file_extension": ".py",
   "mimetype": "text/x-python",
   "name": "python",
   "nbconvert_exporter": "python",
   "pygments_lexer": "ipython3",
   "version": "3.9.5"
  }
 },
 "nbformat": 4,
 "nbformat_minor": 5
}
