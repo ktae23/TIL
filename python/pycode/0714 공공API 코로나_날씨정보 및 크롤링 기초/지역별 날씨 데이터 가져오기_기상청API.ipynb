{
 "cells": [
  {
   "cell_type": "markdown",
   "id": "3773e0c8",
   "metadata": {},
   "source": [
    "### 조회를 위한 시작/종료일 입력 및 확인"
   ]
  },
  {
   "cell_type": "code",
   "execution_count": 26,
   "id": "49a11784",
   "metadata": {},
   "outputs": [],
   "source": [
    "def main():\n",
    "    ### 시작일 입력\n",
    "    while True:\n",
    "        sDate=input('시작일을 입력하세요.(예:20210401)')  #'20210301' \n",
    "        if len(sDate)!=8:\n",
    "            print('\"20210401\"과 같이 8자리로 입력해주세요')\n",
    "            continue\n",
    "        try:\n",
    "            sd=int(sDate)\n",
    "            break\n",
    "        except:\n",
    "            print('문자가 포함되어 있습니다. 다시 입력해주세요.')\n",
    "            continue\n",
    "            \n",
    "    ### 종료일 입력  \n",
    "    while True:\n",
    "        eDate=input('종료일을 입력하세요.(예:20210401)') # '20210331'\n",
    "        if len(eDate)!=8:\n",
    "            print('\"20210401\"과 같이 8자리로 입력해주세요')\n",
    "            continue          \n",
    "        try:\n",
    "            sd=int(eDate)\n",
    "            today=datetime.today()\n",
    "            newDate = today.strftime('%Y%m%d')\n",
    "            if sd >= int(newDate):\n",
    "                print('데이터는 당일 이전 자료까지만 제공됩니다..\\n다시 입력해주세요')\n",
    "                continue\n",
    "                \n",
    "            if int(sDate)> sd:\n",
    "                print('종료일이 시작일보다 이전 날짜입니다.\\n다시 입력해주세요')\n",
    "                continue\n",
    "            break\n",
    "        except:\n",
    "            print('문자가 포함되어 있습니다. 다시 입력해주세요.')\n",
    "            continue\n",
    "            \n",
    "    regionName=input('검색할 지점명을 입력하세요.')\n",
    "    \n",
    "    if regionName == \"\":\n",
    "        return startWeatherData(sDate, eDate)\n",
    "    else:\n",
    "        return startWeatherData(sDate, eDate, regionName)\n"
   ]
  },
  {
   "cell_type": "markdown",
   "id": "18e40994",
   "metadata": {},
   "source": [
    "### 요청 지역 날씨 데이터 가져오기"
   ]
  },
  {
   "cell_type": "code",
   "execution_count": 23,
   "id": "32572975",
   "metadata": {},
   "outputs": [],
   "source": [
    "def startWeatherData(sDate, eDate, regionName='서울'):   # 데이터 처리\n",
    "    \n",
    "    pointID=getRegionalCode(regionName)        # 지점코드 \n",
    "    \n",
    "    url=getRegionalUrl(sDate, eDate, pointID)  # 기본 url 생성\n",
    "    #print(url)\n",
    "    response = urllib.request.urlopen(url)     # url을 이용한 정보 요청\n",
    "    rescode = response.getcode()               # 요청값 가져오기\n",
    "    if rescode!=200:                          # 요청값 정상 여부 확인\n",
    "        raise Exception(\"Error Code:\" + rescode)\n",
    "        \n",
    "    numRows = int(json.loads(response.read())['response']['body']['totalCount']) # 전체 조회 데이터 개수 추출\n",
    "    urlNew=getRegionalUrl(sDate, eDate, pointID, numRows)  # 전체 조회데이터 개수를 이용한 새로운 url 생성\n",
    "    items=getJson(urlNew)      # 전체 데이터 url을 이용한 데이터 추출\n",
    "    # print(items)\n",
    "    return_df=getWeatherData(items)   # 가져온 데이터를 이용한 원하는 값 DataFrame 형식으로 출력\n",
    "    \n",
    "    saveWeatherData(sDate, eDate, regionName, return_df) # 데이터 저장\n",
    "    print('저장되었습니다.')\n",
    "    \n",
    "    return return_df"
   ]
  },
  {
   "cell_type": "markdown",
   "id": "1c3ae7be",
   "metadata": {},
   "source": [
    "### 데이터 저장"
   ]
  },
  {
   "cell_type": "code",
   "execution_count": 20,
   "id": "1366f07b",
   "metadata": {},
   "outputs": [],
   "source": [
    "def saveWeatherData(sDate, eDate, regionName, return_df):  \n",
    "    filename = \"\"\n",
    "    if sDate == eDate:\n",
    "        filename = f\"{regionName}_일별기상정보_{sDate}.csv\"   # 시작일과 종료일이 같은 경우\n",
    "    else:\n",
    "        filename = f\"{regionName}_일별기상정보_{sDate}_{eDate}.csv\"  # 시작일과 종료일이 다른 경우\n",
    "        \n",
    "    return_df.to_csv('c:/pydata/' + filename, encoding='cp949', index=False)"
   ]
  },
  {
   "cell_type": "markdown",
   "id": "9f99b1aa",
   "metadata": {},
   "source": [
    "### 연결 데이터에서 원하는 데이터 가져오기"
   ]
  },
  {
   "cell_type": "code",
   "execution_count": 21,
   "id": "20920ecc",
   "metadata": {},
   "outputs": [],
   "source": [
    "def getWeatherData(items):\n",
    "    tmpList = []\n",
    "    for item in items:\n",
    "        tmpList.append([item['stnNm'], item['tm'], item['avgTa'], item['minTa'], item['maxTa'], item['sumRn']])\n",
    "    return pd.DataFrame(tmpList, columns=['지점명', '날짜', '평균기온', '최저기온', '최고기온', '일강수량'])"
   ]
  },
  {
   "cell_type": "markdown",
   "id": "3c273bdc",
   "metadata": {},
   "source": [
    "### Json 파일 읽어오기"
   ]
  },
  {
   "cell_type": "code",
   "execution_count": 5,
   "id": "549e1952",
   "metadata": {},
   "outputs": [],
   "source": [
    "def getJson(urlNew):\n",
    "    response = urllib.request.urlopen(urlNew)\n",
    "    rescode = response.getcode()\n",
    "    if(rescode==200):\n",
    "        return json.loads(response.read())['response']['body']['items']['item']\n",
    "    else:\n",
    "        raise Exception(\"Error Code:\" + rescode)"
   ]
  },
  {
   "cell_type": "markdown",
   "id": "45af9e81",
   "metadata": {},
   "source": [
    "### url 생성하기"
   ]
  },
  {
   "cell_type": "code",
   "execution_count": 6,
   "id": "deb58ce6",
   "metadata": {},
   "outputs": [],
   "source": [
    "def getRegionalUrl(sDate, eDate, pointID, numRow=10):  # url 생성\n",
    "    Key='개인코드'\n",
    "    url='http://apis.data.go.kr/1360000/AsosDalyInfoService/getWthrDataList?serviceKey='+Key\n",
    "    url=url+'&dataType=JSON&numOfRows='+str(numRow)+'&pageNo=1&dataCd=ASOS&dateCd=DAY&startDt='+sDate\n",
    "    url=url+'&endDt='+eDate+'&stnIds='+str(pointID)\n",
    "    return url"
   ]
  },
  {
   "cell_type": "markdown",
   "id": "f396d9d9",
   "metadata": {},
   "source": [
    "### 지점 코드 가져오기"
   ]
  },
  {
   "cell_type": "code",
   "execution_count": 9,
   "id": "d85e7a0a",
   "metadata": {},
   "outputs": [],
   "source": [
    "def getRegionalCode(inputRegName):  # 검측 지점코드 취득\n",
    "    \n",
    "    df_RegCode = pd.read_csv('c:/pydata/지역코드.csv', encoding='cp949')\n",
    "    regCode=df_RegCode[df_RegCode['지점명']==inputRegName]\n",
    "    \n",
    "    if len(regCode)== 1:\n",
    "        return int(regCode['지점'].values)\n",
    "    else:\n",
    "        # 사용자에 의해서 강제로 에러 발생\n",
    "        raise Exception(f\"해당 지역명이 없습니다.\\n지역명을 확인하고 다시 입력해주세요\\n\\n{inputRegName}\")"
   ]
  },
  {
   "cell_type": "markdown",
   "id": "50520b74",
   "metadata": {},
   "source": [
    "### 코드 실행부분"
   ]
  },
  {
   "cell_type": "code",
   "execution_count": 27,
   "id": "db36f10e",
   "metadata": {},
   "outputs": [
    {
     "name": "stdout",
     "output_type": "stream",
     "text": [
      "시작일을 입력하세요.(예:20210401)20210101\n",
      "종료일을 입력하세요.(예:20210401)20210713\n",
      "검색할 지점명을 입력하세요.부산\n",
      "저장되었습니다.\n"
     ]
    }
   ],
   "source": [
    "import pandas as pd\n",
    "import os\n",
    "from datetime import datetime, timedelta\n",
    "import urllib.request\n",
    "import json\n",
    "\n",
    "if __name__ == '__main__':\n",
    "    df1=main()"
   ]
  },
  {
   "cell_type": "code",
   "execution_count": 28,
   "id": "92e440cd",
   "metadata": {},
   "outputs": [
    {
     "data": {
      "text/html": [
       "<div>\n",
       "<style scoped>\n",
       "    .dataframe tbody tr th:only-of-type {\n",
       "        vertical-align: middle;\n",
       "    }\n",
       "\n",
       "    .dataframe tbody tr th {\n",
       "        vertical-align: top;\n",
       "    }\n",
       "\n",
       "    .dataframe thead th {\n",
       "        text-align: right;\n",
       "    }\n",
       "</style>\n",
       "<table border=\"1\" class=\"dataframe\">\n",
       "  <thead>\n",
       "    <tr style=\"text-align: right;\">\n",
       "      <th></th>\n",
       "      <th>지점명</th>\n",
       "      <th>날짜</th>\n",
       "      <th>평균기온</th>\n",
       "      <th>최저기온</th>\n",
       "      <th>최고기온</th>\n",
       "      <th>일강수량</th>\n",
       "    </tr>\n",
       "  </thead>\n",
       "  <tbody>\n",
       "    <tr>\n",
       "      <th>0</th>\n",
       "      <td>부산</td>\n",
       "      <td>2021-01-01</td>\n",
       "      <td>0.3</td>\n",
       "      <td>-5.0</td>\n",
       "      <td>4.6</td>\n",
       "      <td></td>\n",
       "    </tr>\n",
       "    <tr>\n",
       "      <th>1</th>\n",
       "      <td>부산</td>\n",
       "      <td>2021-01-02</td>\n",
       "      <td>1.3</td>\n",
       "      <td>-1.6</td>\n",
       "      <td>5.0</td>\n",
       "      <td></td>\n",
       "    </tr>\n",
       "    <tr>\n",
       "      <th>2</th>\n",
       "      <td>부산</td>\n",
       "      <td>2021-01-03</td>\n",
       "      <td>0.1</td>\n",
       "      <td>-2.7</td>\n",
       "      <td>3.7</td>\n",
       "      <td></td>\n",
       "    </tr>\n",
       "    <tr>\n",
       "      <th>3</th>\n",
       "      <td>부산</td>\n",
       "      <td>2021-01-04</td>\n",
       "      <td>3.0</td>\n",
       "      <td>-2.2</td>\n",
       "      <td>9.0</td>\n",
       "      <td></td>\n",
       "    </tr>\n",
       "    <tr>\n",
       "      <th>4</th>\n",
       "      <td>부산</td>\n",
       "      <td>2021-01-05</td>\n",
       "      <td>3.0</td>\n",
       "      <td>-2.2</td>\n",
       "      <td>8.0</td>\n",
       "      <td></td>\n",
       "    </tr>\n",
       "    <tr>\n",
       "      <th>...</th>\n",
       "      <td>...</td>\n",
       "      <td>...</td>\n",
       "      <td>...</td>\n",
       "      <td>...</td>\n",
       "      <td>...</td>\n",
       "      <td>...</td>\n",
       "    </tr>\n",
       "    <tr>\n",
       "      <th>189</th>\n",
       "      <td>부산</td>\n",
       "      <td>2021-07-09</td>\n",
       "      <td>24.4</td>\n",
       "      <td>22.2</td>\n",
       "      <td>28.1</td>\n",
       "      <td>4.2</td>\n",
       "    </tr>\n",
       "    <tr>\n",
       "      <th>190</th>\n",
       "      <td>부산</td>\n",
       "      <td>2021-07-10</td>\n",
       "      <td>25.3</td>\n",
       "      <td>23.4</td>\n",
       "      <td>28.0</td>\n",
       "      <td></td>\n",
       "    </tr>\n",
       "    <tr>\n",
       "      <th>191</th>\n",
       "      <td>부산</td>\n",
       "      <td>2021-07-11</td>\n",
       "      <td>26.2</td>\n",
       "      <td>23.8</td>\n",
       "      <td>29.1</td>\n",
       "      <td></td>\n",
       "    </tr>\n",
       "    <tr>\n",
       "      <th>192</th>\n",
       "      <td>부산</td>\n",
       "      <td>2021-07-12</td>\n",
       "      <td>27.2</td>\n",
       "      <td>25.4</td>\n",
       "      <td>29.9</td>\n",
       "      <td></td>\n",
       "    </tr>\n",
       "    <tr>\n",
       "      <th>193</th>\n",
       "      <td>부산</td>\n",
       "      <td>2021-07-13</td>\n",
       "      <td>27.0</td>\n",
       "      <td>25.1</td>\n",
       "      <td>29.5</td>\n",
       "      <td></td>\n",
       "    </tr>\n",
       "  </tbody>\n",
       "</table>\n",
       "<p>194 rows × 6 columns</p>\n",
       "</div>"
      ],
      "text/plain": [
       "    지점명          날짜  평균기온  최저기온  최고기온 일강수량\n",
       "0    부산  2021-01-01   0.3  -5.0   4.6     \n",
       "1    부산  2021-01-02   1.3  -1.6   5.0     \n",
       "2    부산  2021-01-03   0.1  -2.7   3.7     \n",
       "3    부산  2021-01-04   3.0  -2.2   9.0     \n",
       "4    부산  2021-01-05   3.0  -2.2   8.0     \n",
       "..   ..         ...   ...   ...   ...  ...\n",
       "189  부산  2021-07-09  24.4  22.2  28.1  4.2\n",
       "190  부산  2021-07-10  25.3  23.4  28.0     \n",
       "191  부산  2021-07-11  26.2  23.8  29.1     \n",
       "192  부산  2021-07-12  27.2  25.4  29.9     \n",
       "193  부산  2021-07-13  27.0  25.1  29.5     \n",
       "\n",
       "[194 rows x 6 columns]"
      ]
     },
     "execution_count": 28,
     "metadata": {},
     "output_type": "execute_result"
    }
   ],
   "source": [
    "df1"
   ]
  },
  {
   "cell_type": "code",
   "execution_count": null,
   "id": "2c01d302",
   "metadata": {},
   "outputs": [],
   "source": []
  }
 ],
 "metadata": {
  "kernelspec": {
   "display_name": "Python 3",
   "language": "python",
   "name": "python3"
  },
  "language_info": {
   "codemirror_mode": {
    "name": "ipython",
    "version": 3
   },
   "file_extension": ".py",
   "mimetype": "text/x-python",
   "name": "python",
   "nbconvert_exporter": "python",
   "pygments_lexer": "ipython3",
   "version": "3.9.5"
  }
 },
 "nbformat": 4,
 "nbformat_minor": 5
}
