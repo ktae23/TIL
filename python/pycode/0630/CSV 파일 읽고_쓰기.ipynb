{
 "cells": [
  {
   "cell_type": "code",
   "execution_count": 6,
   "id": "2ada865d",
   "metadata": {},
   "outputs": [
    {
     "name": "stdout",
     "output_type": "stream",
     "text": [
      "최고기온: 39.6, 날짜:2018-08-01\n"
     ]
    }
   ],
   "source": [
    "import csv\n",
    "\n",
    "f=open('./data/seoul.csv')#seoul.csv 파일을 읽기 모드로 불러옴.\n",
    "data=csv.reader(f)\n",
    "header=next(data)         # 첫번째 행(제목행) header 변수에 저장\n",
    "\n",
    "max_temp=0\n",
    "max_day=\"\"\n",
    "\n",
    "for row in data :\n",
    "    if row[4]!=\"\":\n",
    "        if float(row[4])>max_temp :\n",
    "            max_temp=float(row[4])\n",
    "            max_day=row[2]\n",
    "            \n",
    "print(f'최고기온: {max_temp}, 날짜:{max_day}')\n"
   ]
  }
 ],
 "metadata": {
  "kernelspec": {
   "display_name": "Python 3",
   "language": "python",
   "name": "python3"
  },
  "language_info": {
   "codemirror_mode": {
    "name": "ipython",
    "version": 3
   },
   "file_extension": ".py",
   "mimetype": "text/x-python",
   "name": "python",
   "nbconvert_exporter": "python",
   "pygments_lexer": "ipython3",
   "version": "3.9.5"
  }
 },
 "nbformat": 4,
 "nbformat_minor": 5
}
