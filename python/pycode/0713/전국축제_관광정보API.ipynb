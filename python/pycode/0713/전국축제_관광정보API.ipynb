{
 "cells": [
  {
   "cell_type": "code",
   "execution_count": 36,
   "id": "c79f657e",
   "metadata": {},
   "outputs": [],
   "source": [
    "import requests\n",
    "from bs4 import BeautifulSoup as bs\n",
    "import pandas as pd\n",
    "from tqdm import tqdm"
   ]
  },
  {
   "cell_type": "markdown",
   "id": "d453beb9",
   "metadata": {},
   "source": [
    "### API 연결 및 데이터 파씽"
   ]
  },
  {
   "cell_type": "code",
   "execution_count": 37,
   "id": "05aa2b1e",
   "metadata": {},
   "outputs": [],
   "source": [
    "def url_parser(sDate, eDate, row=10):\n",
    "    ### API 연결 및 데이터 파씽\n",
    "    key=\"VFYXI%2F3A5kIk7QVsO1epAlZSb6ZtCO9N5VC%2FMF3pW6oZ7%2BsFrvH1Y9y0UfmVzTnA0k2FasoNM6t6JsY7%2BEwNEw%3D%3D\"\n",
    "\n",
    "    # 기본 url + 사용자 key\n",
    "    url=\"http://api.visitkorea.or.kr/openapi/service/rest/KorService/searchFestival?serviceKey=\" + key\n",
    "    url=url+\"&MobileOS=ETC&MobileApp=AppTest&arrange=A&listYN=Y\"   # 기본 필수 옵션\n",
    "    url=url+\"&numOfRows=\"+ str(row)   # 한페이지 출력 데이터 개수\n",
    "    url=url+\"&eventStartDate=\"+str(sDate)  # 조회 시작일\n",
    "    url=url+\"&eventEndDate=\"+str(eDate)\n",
    "    #print(url+\"\\n\\n\")\n",
    "    xml_soup=requests.get(url)\n",
    "    if xml_soup.status_code != 200:\n",
    "        print(\"API를 연결하지 못하였습니다.\")\n",
    "        exit()\n",
    "        \n",
    "    soup=bs(xml_soup.content, 'html.parser')  # xml_soup.text 변경 가능\n",
    "    \n",
    "    return soup\n"
   ]
  },
  {
   "cell_type": "markdown",
   "id": "fe1fc0d9",
   "metadata": {},
   "source": [
    "### 파씽한 데이터에서 원하는 데이터 추출 및 DataFrame로 변경"
   ]
  },
  {
   "cell_type": "code",
   "execution_count": 38,
   "id": "121a125c",
   "metadata": {},
   "outputs": [],
   "source": [
    "def tour_info(sDate, eDate, soup):\n",
    "    ### 파씽한 데이터에서 원하는 데이터 추출 및 DataFrame로 변경\n",
    "    row=soup.find('totalcount').text\n",
    "    re_soup=url_parser(sDate, eDate, row)\n",
    "    \n",
    "    items=re_soup.find_all('item')\n",
    "    df_list=[]\n",
    "    \n",
    "    for item in tqdm(items, desc=\"진행:\"):\n",
    "        staD=item.find('eventstartdate').text      # 축제 시작일\n",
    "        endD=item.find('eventenddate').get_text()  # 축제 종료일\n",
    "        titD=item.find('title').get_text()         # 축제명\n",
    "        try:\n",
    "            addD=item.find('addr1').get_text()         # 주소\n",
    "        except:\n",
    "            addD=\"온라인개최\"\n",
    "        try:\n",
    "            telD=item.find('tel').get_text()           # 전화\n",
    "        except:\n",
    "            telD=\"-\"\n",
    "        try:\n",
    "            lngD=item.find('mapx').text                # 경도\n",
    "            latD=item.find('mapy').get_text()          # 위도\n",
    "        except:\n",
    "            lngD=0\n",
    "            latD=0\n",
    "        \n",
    "        df_list.append({\"시작일\":staD, \"종료일\":endD, \"축제명\":titD,\n",
    "                        \"주소\":addD, \"연락처\":telD, '위도':latD, '경도':lngD})\n",
    "        \n",
    "    df1=pd.DataFrame(df_list)\n",
    "    \n",
    "    return df1"
   ]
  },
  {
   "cell_type": "markdown",
   "id": "b4336eeb",
   "metadata": {},
   "source": [
    "### 코드 실행"
   ]
  },
  {
   "cell_type": "code",
   "execution_count": 45,
   "id": "6ecb1b9d",
   "metadata": {},
   "outputs": [
    {
     "name": "stdout",
     "output_type": "stream",
     "text": [
      "조회 시작일:(예:20200101):20190101\n",
      "조회 종료일:(예:20201231):20211231\n"
     ]
    },
    {
     "name": "stderr",
     "output_type": "stream",
     "text": [
      "진행:: 100%|███████████████████████████████████████████████████████████████████████| 727/727 [00:00<00:00, 5784.80it/s]\n"
     ]
    },
    {
     "data": {
      "text/html": [
       "<div>\n",
       "<style scoped>\n",
       "    .dataframe tbody tr th:only-of-type {\n",
       "        vertical-align: middle;\n",
       "    }\n",
       "\n",
       "    .dataframe tbody tr th {\n",
       "        vertical-align: top;\n",
       "    }\n",
       "\n",
       "    .dataframe thead th {\n",
       "        text-align: right;\n",
       "    }\n",
       "</style>\n",
       "<table border=\"1\" class=\"dataframe\">\n",
       "  <thead>\n",
       "    <tr style=\"text-align: right;\">\n",
       "      <th></th>\n",
       "      <th>시작일</th>\n",
       "      <th>종료일</th>\n",
       "      <th>축제명</th>\n",
       "      <th>주소</th>\n",
       "      <th>연락처</th>\n",
       "      <th>위도</th>\n",
       "      <th>경도</th>\n",
       "    </tr>\n",
       "  </thead>\n",
       "  <tbody>\n",
       "    <tr>\n",
       "      <th>0</th>\n",
       "      <td>20210306</td>\n",
       "      <td>20211030</td>\n",
       "      <td>가무악극으로 만나는 토요 상설공연</td>\n",
       "      <td>충청남도 부여군 규암면 백제문로 388</td>\n",
       "      <td>041-832-5765</td>\n",
       "      <td>36.3048428766</td>\n",
       "      <td>126.8997016069</td>\n",
       "    </tr>\n",
       "    <tr>\n",
       "      <th>1</th>\n",
       "      <td>20210320</td>\n",
       "      <td>20210630</td>\n",
       "      <td>가산수피아 '봄의 정원'</td>\n",
       "      <td>경상북도 칠곡군 가산면 학하들안2길 105</td>\n",
       "      <td>054-971-9861</td>\n",
       "      <td>36.0861545517</td>\n",
       "      <td>128.4850691574</td>\n",
       "    </tr>\n",
       "    <tr>\n",
       "      <th>2</th>\n",
       "      <td>20210116</td>\n",
       "      <td>20211231</td>\n",
       "      <td>가족끼리 빙어체험 2021</td>\n",
       "      <td>경기도 양평군 단월면 곱다니길 55-2 수미마을 방문객센터</td>\n",
       "      <td>031-775-5205</td>\n",
       "      <td>37.5145504080</td>\n",
       "      <td>127.6574135888</td>\n",
       "    </tr>\n",
       "    <tr>\n",
       "      <th>3</th>\n",
       "      <td>20210301</td>\n",
       "      <td>20210606</td>\n",
       "      <td>가족끼리딸기 캠피닉</td>\n",
       "      <td>경기도 양평군 단월면 곱다니길 55-2</td>\n",
       "      <td>031-775-5205</td>\n",
       "      <td>37.5144948588</td>\n",
       "      <td>127.6573663730</td>\n",
       "    </tr>\n",
       "    <tr>\n",
       "      <th>4</th>\n",
       "      <td>20210225</td>\n",
       "      <td>20210228</td>\n",
       "      <td>가족오페라 &lt;마술피리&gt; 2021</td>\n",
       "      <td>대구광역시 북구 호암로 15</td>\n",
       "      <td>053-666-6170</td>\n",
       "      <td>35.8835072863</td>\n",
       "      <td>128.5922570230</td>\n",
       "    </tr>\n",
       "    <tr>\n",
       "      <th>...</th>\n",
       "      <td>...</td>\n",
       "      <td>...</td>\n",
       "      <td>...</td>\n",
       "      <td>...</td>\n",
       "      <td>...</td>\n",
       "      <td>...</td>\n",
       "      <td>...</td>\n",
       "    </tr>\n",
       "    <tr>\n",
       "      <th>722</th>\n",
       "      <td>20211013</td>\n",
       "      <td>20211017</td>\n",
       "      <td>[문화관광축제] 추억의 충장축제 2021</td>\n",
       "      <td>광주광역시 동구 서남로 1</td>\n",
       "      <td>062-608-2421~4</td>\n",
       "      <td>35.1454973445</td>\n",
       "      <td>126.9231294053</td>\n",
       "    </tr>\n",
       "    <tr>\n",
       "      <th>723</th>\n",
       "      <td>20210523</td>\n",
       "      <td>20211130</td>\n",
       "      <td>[문화관광축제] 춘천마임축제</td>\n",
       "      <td>강원도 춘천시 전역</td>\n",
       "      <td>033-242-0585</td>\n",
       "      <td>37.8766011603</td>\n",
       "      <td>127.7178558012</td>\n",
       "    </tr>\n",
       "    <tr>\n",
       "      <th>724</th>\n",
       "      <td>20210812</td>\n",
       "      <td>20210821</td>\n",
       "      <td>[문화관광축제] 통영한산대첩축제</td>\n",
       "      <td>경상남도 통영시 통영해안로 328</td>\n",
       "      <td>055-644-5222</td>\n",
       "      <td>34.8438295639</td>\n",
       "      <td>128.4241721001</td>\n",
       "    </tr>\n",
       "    <tr>\n",
       "      <th>725</th>\n",
       "      <td>20210611</td>\n",
       "      <td>20210613</td>\n",
       "      <td>[문화관광축제] 한산모시문화제</td>\n",
       "      <td>충청남도 서천군 한산면 충절로 1089</td>\n",
       "      <td>041-950-4256</td>\n",
       "      <td>36.0799251950</td>\n",
       "      <td>126.7987054614</td>\n",
       "    </tr>\n",
       "    <tr>\n",
       "      <th>726</th>\n",
       "      <td>20201015</td>\n",
       "      <td>20201030</td>\n",
       "      <td>[문화관광축제] 횡성한우축제 2020</td>\n",
       "      <td>온라인개최</td>\n",
       "      <td>1522-1099</td>\n",
       "      <td>37.4981056564</td>\n",
       "      <td>127.9871481157</td>\n",
       "    </tr>\n",
       "  </tbody>\n",
       "</table>\n",
       "<p>727 rows × 7 columns</p>\n",
       "</div>"
      ],
      "text/plain": [
       "          시작일       종료일                     축제명  \\\n",
       "0    20210306  20211030      가무악극으로 만나는 토요 상설공연   \n",
       "1    20210320  20210630           가산수피아 '봄의 정원'   \n",
       "2    20210116  20211231          가족끼리 빙어체험 2021   \n",
       "3    20210301  20210606              가족끼리딸기 캠피닉   \n",
       "4    20210225  20210228       가족오페라 <마술피리> 2021   \n",
       "..        ...       ...                     ...   \n",
       "722  20211013  20211017  [문화관광축제] 추억의 충장축제 2021   \n",
       "723  20210523  20211130         [문화관광축제] 춘천마임축제   \n",
       "724  20210812  20210821       [문화관광축제] 통영한산대첩축제   \n",
       "725  20210611  20210613        [문화관광축제] 한산모시문화제   \n",
       "726  20201015  20201030    [문화관광축제] 횡성한우축제 2020   \n",
       "\n",
       "                                   주소             연락처             위도  \\\n",
       "0               충청남도 부여군 규암면 백제문로 388    041-832-5765  36.3048428766   \n",
       "1             경상북도 칠곡군 가산면 학하들안2길 105    054-971-9861  36.0861545517   \n",
       "2    경기도 양평군 단월면 곱다니길 55-2 수미마을 방문객센터    031-775-5205  37.5145504080   \n",
       "3               경기도 양평군 단월면 곱다니길 55-2    031-775-5205  37.5144948588   \n",
       "4                     대구광역시 북구 호암로 15    053-666-6170  35.8835072863   \n",
       "..                                ...             ...            ...   \n",
       "722                    광주광역시 동구 서남로 1  062-608-2421~4  35.1454973445   \n",
       "723                        강원도 춘천시 전역    033-242-0585  37.8766011603   \n",
       "724                경상남도 통영시 통영해안로 328    055-644-5222  34.8438295639   \n",
       "725             충청남도 서천군 한산면 충절로 1089    041-950-4256  36.0799251950   \n",
       "726                             온라인개최       1522-1099  37.4981056564   \n",
       "\n",
       "                 경도  \n",
       "0    126.8997016069  \n",
       "1    128.4850691574  \n",
       "2    127.6574135888  \n",
       "3    127.6573663730  \n",
       "4    128.5922570230  \n",
       "..              ...  \n",
       "722  126.9231294053  \n",
       "723  127.7178558012  \n",
       "724  128.4241721001  \n",
       "725  126.7987054614  \n",
       "726  127.9871481157  \n",
       "\n",
       "[727 rows x 7 columns]"
      ]
     },
     "metadata": {},
     "output_type": "display_data"
    }
   ],
   "source": [
    "# if __name__==\"__main__\":\n",
    "sDate=input(\"조회 시작일:(예:20200101):\")\n",
    "eDate=input(\"조회 종료일:(예:20201231):\")\n",
    "\n",
    "soup=url_parser(sDate, eDate)\n",
    "df1=tour_info(sDate, eDate, soup)\n",
    "df1.to_csv('c:/pydata/tour_'+str(sDate)+\"_\"+str(eDate)+\".csv\", index=False)\n",
    "\n",
    "display(df1) #print(df1)"
   ]
  },
  {
   "cell_type": "markdown",
   "id": "a8c89c76",
   "metadata": {},
   "source": [
    "### 축제 데이터 분석\n",
    "- 1. 2020년~2021년 축제 건수 비교(시작일 기준)\n",
    "- 2. 축제유형(집합/비대면 축제)\n",
    "- 3. 지역별 축제 현황"
   ]
  },
  {
   "cell_type": "code",
   "execution_count": 46,
   "id": "da32d847",
   "metadata": {},
   "outputs": [
    {
     "name": "stdout",
     "output_type": "stream",
     "text": [
      "8 362 357\n"
     ]
    }
   ],
   "source": [
    "cnt19=0;cnt20=0;cnt21=0\n",
    "\n",
    "for cntDate in df1['시작일']:\n",
    "    if cntDate[:4] == \"2019\":\n",
    "        cnt19 += 1\n",
    "    elif cntDate[:4] == \"2020\":\n",
    "        cnt20 += 1\n",
    "    else:\n",
    "        cnt21 += 1\n",
    "        \n",
    "print(cnt19, cnt20, cnt21)\n",
    "        "
   ]
  },
  {
   "cell_type": "code",
   "execution_count": 47,
   "id": "d2b0ac40",
   "metadata": {},
   "outputs": [],
   "source": [
    "df1['시작년']=df1['시작일'].str[:4]\n",
    "df2=df1.groupby('시작년')['축제명'].count()"
   ]
  },
  {
   "cell_type": "code",
   "execution_count": 48,
   "id": "2772c74d",
   "metadata": {},
   "outputs": [
    {
     "name": "stderr",
     "output_type": "stream",
     "text": [
      "C:\\ProgramData\\Miniconda3\\envs\\multi\\lib\\site-packages\\matplotlib\\backends\\backend_agg.py:240: RuntimeWarning: Glyph 49884 missing from current font.\n",
      "  font.set_text(s, 0.0, flags=flags)\n",
      "C:\\ProgramData\\Miniconda3\\envs\\multi\\lib\\site-packages\\matplotlib\\backends\\backend_agg.py:240: RuntimeWarning: Glyph 51089 missing from current font.\n",
      "  font.set_text(s, 0.0, flags=flags)\n",
      "C:\\ProgramData\\Miniconda3\\envs\\multi\\lib\\site-packages\\matplotlib\\backends\\backend_agg.py:240: RuntimeWarning: Glyph 45380 missing from current font.\n",
      "  font.set_text(s, 0.0, flags=flags)\n",
      "C:\\ProgramData\\Miniconda3\\envs\\multi\\lib\\site-packages\\matplotlib\\backends\\backend_agg.py:203: RuntimeWarning: Glyph 49884 missing from current font.\n",
      "  font.set_text(s, 0, flags=flags)\n",
      "C:\\ProgramData\\Miniconda3\\envs\\multi\\lib\\site-packages\\matplotlib\\backends\\backend_agg.py:203: RuntimeWarning: Glyph 51089 missing from current font.\n",
      "  font.set_text(s, 0, flags=flags)\n",
      "C:\\ProgramData\\Miniconda3\\envs\\multi\\lib\\site-packages\\matplotlib\\backends\\backend_agg.py:203: RuntimeWarning: Glyph 45380 missing from current font.\n",
      "  font.set_text(s, 0, flags=flags)\n"
     ]
    },
    {
     "data": {
      "image/png": "[encoded data removed]",
      "text/plain": [
       "<Figure size 432x288 with 1 Axes>"
      ]
     },
     "metadata": {
      "needs_background": "light"
     },
     "output_type": "display_data"
    }
   ],
   "source": [
    "import matplotlib.pyplot as plt\n",
    "\n",
    "df2.plot.bar()\n",
    "plt.show()"
   ]
  },
  {
   "cell_type": "code",
   "execution_count": 49,
   "id": "a7a58948",
   "metadata": {},
   "outputs": [
    {
     "data": {
      "text/plain": [
       "시작일    datetime64[ns]\n",
       "종료일    datetime64[ns]\n",
       "축제명            object\n",
       "주소             object\n",
       "연락처            object\n",
       "위도             object\n",
       "경도             object\n",
       "시작년            object\n",
       "dtype: object"
      ]
     },
     "execution_count": 49,
     "metadata": {},
     "output_type": "execute_result"
    }
   ],
   "source": [
    "df1['시작일']=pd.to_datetime(df1['시작일'])\n",
    "df1['종료일']=pd.to_datetime(df1.종료일)\n",
    "df1.dtypes"
   ]
  },
  {
   "cell_type": "code",
   "execution_count": 64,
   "id": "82af46f6",
   "metadata": {},
   "outputs": [
    {
     "data": {
      "text/plain": [
       "<AxesSubplot:ylabel='시작년'>"
      ]
     },
     "execution_count": 64,
     "metadata": {},
     "output_type": "execute_result"
    },
    {
     "name": "stderr",
     "output_type": "stream",
     "text": [
      "C:\\ProgramData\\Miniconda3\\envs\\multi\\lib\\site-packages\\matplotlib\\backends\\backend_agg.py:240: RuntimeWarning: Glyph 49884 missing from current font.\n",
      "  font.set_text(s, 0.0, flags=flags)\n",
      "C:\\ProgramData\\Miniconda3\\envs\\multi\\lib\\site-packages\\matplotlib\\backends\\backend_agg.py:240: RuntimeWarning: Glyph 51089 missing from current font.\n",
      "  font.set_text(s, 0.0, flags=flags)\n",
      "C:\\ProgramData\\Miniconda3\\envs\\multi\\lib\\site-packages\\matplotlib\\backends\\backend_agg.py:240: RuntimeWarning: Glyph 45380 missing from current font.\n",
      "  font.set_text(s, 0.0, flags=flags)\n",
      "C:\\ProgramData\\Miniconda3\\envs\\multi\\lib\\site-packages\\matplotlib\\backends\\backend_agg.py:203: RuntimeWarning: Glyph 49884 missing from current font.\n",
      "  font.set_text(s, 0, flags=flags)\n",
      "C:\\ProgramData\\Miniconda3\\envs\\multi\\lib\\site-packages\\matplotlib\\backends\\backend_agg.py:203: RuntimeWarning: Glyph 51089 missing from current font.\n",
      "  font.set_text(s, 0, flags=flags)\n",
      "C:\\ProgramData\\Miniconda3\\envs\\multi\\lib\\site-packages\\matplotlib\\backends\\backend_agg.py:203: RuntimeWarning: Glyph 45380 missing from current font.\n",
      "  font.set_text(s, 0, flags=flags)\n"
     ]
    },
    {
     "data": {
      "image/png": "[encoded data removed]",
      "text/plain": [
       "<Figure size 432x288 with 1 Axes>"
      ]
     },
     "metadata": {
      "needs_background": "light"
     },
     "output_type": "display_data"
    }
   ],
   "source": [
    "df1['시작년']=df1['시작일'].dt.year\n",
    "df1['시작월']=df1['시작일'].dt.month\n",
    "\n",
    "df2=df1.groupby('시작년')['축제명'].count()\n",
    "df2.plot.barh()"
   ]
  },
  {
   "cell_type": "markdown",
   "id": "c60b699c",
   "metadata": {},
   "source": [
    "- 축제 시작년/시작월을 기분으로 groupby \n",
    "- concat()으로 열 추가하기"
   ]
  },
  {
   "cell_type": "code",
   "execution_count": 154,
   "id": "ce4d8726",
   "metadata": {},
   "outputs": [
    {
     "name": "stdout",
     "output_type": "stream",
     "text": [
      "     2021Y  2020Y\n",
      "시작월              \n",
      "1       43    3.0\n",
      "2       17    NaN\n",
      "3       18    NaN\n",
      "4       54    NaN\n",
      "5       64    1.0\n",
      "6       44    2.0\n",
      "7       38    7.0\n",
      "8       16   50.0\n",
      "9       21   78.0\n",
      "10      34  121.0\n",
      "11       6   70.0\n",
      "12       2   30.0\n"
     ]
    }
   ],
   "source": [
    "df2=df1.groupby(['시작년', '시작월'])['축제명'].count()   # 축제 시작년/시작월 기준 건수 확인\n",
    "df2=df2.reset_index()   # '시작년', '시작월'을 데이터로 사용하기 위해 index 재설정\n",
    "#print(df2[df2['시작년']==2021].set_index('시작월'))\n",
    "\n",
    "df3 = df2[df2['시작년']==2021].set_index('시작월')   # index 시작월로 재설정\n",
    "df4 = df2[df2['시작년']==2020].set_index('시작월')\n",
    "\n",
    "df3 = df3.rename(columns = {df3.columns[1]: '2021Y'})       # 각각의 재설정 데이터의 열 이름 변경\n",
    "df4 = df4.rename(columns = {df4.columns[1]: '2020Y'})\n",
    "\n",
    "df2 = pd.concat([df3, df4], axis = 1)    # df3를 기준으로 열 추가 => 결과 df2 저장\n",
    "del df3, df4  # df3, df4 삭제\n",
    "\n",
    "df2.drop('시작년', axis=1, inplace=True)\n",
    "print(df2)"
   ]
  },
  {
   "cell_type": "code",
   "execution_count": 155,
   "id": "df374ab7",
   "metadata": {},
   "outputs": [
    {
     "name": "stdout",
     "output_type": "stream",
     "text": [
      "     축제명    축제명\n",
      "시작월            \n",
      "1     43    3.0\n",
      "2     17    NaN\n",
      "3     18    NaN\n",
      "4     54    NaN\n",
      "5     64    1.0\n",
      "6     44    2.0\n",
      "7     38    7.0\n",
      "8     16   50.0\n",
      "9     21   78.0\n",
      "10    34  121.0\n",
      "11     6   70.0\n",
      "12     2   30.0\n"
     ]
    }
   ],
   "source": [
    "df3=df1.groupby(['시작년', '시작월'])['축제명'].count()\n",
    "df3=df3.reset_index()\n",
    "#print(df2[df2['시작년']==2021].set_index('시작월'))\n",
    "\n",
    "df3=pd.concat([df3[df3['시작년']==2021].set_index('시작월'),\n",
    "               df3[df3['시작년']==2020].set_index('시작월')], axis=1)\n",
    "df3.drop('시작년', axis=1, inplace=True)\n",
    "print(df3)"
   ]
  },
  {
   "cell_type": "code",
   "execution_count": 158,
   "id": "7b83b855",
   "metadata": {},
   "outputs": [
    {
     "name": "stdout",
     "output_type": "stream",
     "text": [
      "시작월\n",
      "1       3.0\n",
      "2       0.0\n",
      "3       0.0\n",
      "4       0.0\n",
      "5       1.0\n",
      "6       2.0\n",
      "7       7.0\n",
      "8      50.0\n",
      "9      78.0\n",
      "10    121.0\n",
      "11     70.0\n",
      "12     30.0\n",
      "Name: 2020Y, dtype: float64\n",
      "시작월\n",
      "1       3.0\n",
      "2       0.0\n",
      "3       0.0\n",
      "4       0.0\n",
      "5       1.0\n",
      "6       2.0\n",
      "7       7.0\n",
      "8      50.0\n",
      "9      78.0\n",
      "10    121.0\n",
      "11     70.0\n",
      "12     30.0\n",
      "Name: 축제명, dtype: float64\n"
     ]
    }
   ],
   "source": [
    "df2=df2.fillna(0)\n",
    "df3=df3.fillna(0)\n",
    "print(df2[\"2020Y\"])\n",
    "print(df3.iloc[:, 1])"
   ]
  },
  {
   "cell_type": "code",
   "execution_count": 159,
   "id": "a7d6fb7c",
   "metadata": {},
   "outputs": [
    {
     "name": "stderr",
     "output_type": "stream",
     "text": [
      "C:\\ProgramData\\Miniconda3\\envs\\multi\\lib\\site-packages\\matplotlib\\backends\\backend_agg.py:240: RuntimeWarning: Glyph 49884 missing from current font.\n",
      "  font.set_text(s, 0.0, flags=flags)\n",
      "C:\\ProgramData\\Miniconda3\\envs\\multi\\lib\\site-packages\\matplotlib\\backends\\backend_agg.py:240: RuntimeWarning: Glyph 51089 missing from current font.\n",
      "  font.set_text(s, 0.0, flags=flags)\n",
      "C:\\ProgramData\\Miniconda3\\envs\\multi\\lib\\site-packages\\matplotlib\\backends\\backend_agg.py:240: RuntimeWarning: Glyph 50900 missing from current font.\n",
      "  font.set_text(s, 0.0, flags=flags)\n",
      "C:\\ProgramData\\Miniconda3\\envs\\multi\\lib\\site-packages\\matplotlib\\backends\\backend_agg.py:203: RuntimeWarning: Glyph 49884 missing from current font.\n",
      "  font.set_text(s, 0, flags=flags)\n",
      "C:\\ProgramData\\Miniconda3\\envs\\multi\\lib\\site-packages\\matplotlib\\backends\\backend_agg.py:203: RuntimeWarning: Glyph 51089 missing from current font.\n",
      "  font.set_text(s, 0, flags=flags)\n",
      "C:\\ProgramData\\Miniconda3\\envs\\multi\\lib\\site-packages\\matplotlib\\backends\\backend_agg.py:203: RuntimeWarning: Glyph 50900 missing from current font.\n",
      "  font.set_text(s, 0, flags=flags)\n"
     ]
    },
    {
     "data": {
      "image/png": "[encoded data removed]",
      "text/plain": [
       "<Figure size 432x288 with 1 Axes>"
      ]
     },
     "metadata": {
      "needs_background": "light"
     },
     "output_type": "display_data"
    }
   ],
   "source": [
    "df2.plot.bar()\n",
    "plt.show()"
   ]
  },
  {
   "cell_type": "code",
   "execution_count": 166,
   "id": "f0a29d03",
   "metadata": {},
   "outputs": [
    {
     "data": {
      "image/png": "[encoded data removed]",
      "text/plain": [
       "<Figure size 432x288 with 1 Axes>"
      ]
     },
     "metadata": {
      "needs_background": "light"
     },
     "output_type": "display_data"
    },
    {
     "data": {
      "image/png": "[encoded data removed]",
      "text/plain": [
       "<Figure size 432x288 with 1 Axes>"
      ]
     },
     "metadata": {
      "needs_background": "light"
     },
     "output_type": "display_data"
    }
   ],
   "source": [
    "df3.iloc[:, 0].plot.bar()\n",
    "plt.title('2021Y')\n",
    "plt.show()\n",
    "df3.iloc[:, 1].plot.bar()\n",
    "plt.title('2020Y')\n",
    "plt.show()"
   ]
  },
  {
   "cell_type": "code",
   "execution_count": 170,
   "id": "339d81f1",
   "metadata": {},
   "outputs": [
    {
     "name": "stdout",
     "output_type": "stream",
     "text": [
      "111\n",
      "251\n"
     ]
    }
   ],
   "source": [
    "print(df1[(df1['주소']==\"온라인개최\")&(df1['시작년']==2020)]['주소'].count())\n",
    "print(df1[(df1['주소']!=\"온라인개최\")&(df1['시작년']==2020)]['주소'].count())"
   ]
  },
  {
   "cell_type": "code",
   "execution_count": 171,
   "id": "b75fda4f",
   "metadata": {},
   "outputs": [
    {
     "name": "stdout",
     "output_type": "stream",
     "text": [
      "34\n",
      "323\n"
     ]
    }
   ],
   "source": [
    "print(df1[(df1['주소']==\"온라인개최\")&(df1['시작년']==2021)]['주소'].count())\n",
    "print(df1[(df1['주소']!=\"온라인개최\")&(df1['시작년']==2021)]['주소'].count())"
   ]
  },
  {
   "cell_type": "code",
   "execution_count": 172,
   "id": "a7fffd24",
   "metadata": {},
   "outputs": [
    {
     "data": {
      "text/plain": [
       "[[111, 251], [34, 323]]"
      ]
     },
     "execution_count": 172,
     "metadata": {},
     "output_type": "execute_result"
    }
   ],
   "source": [
    "pList=[]\n",
    "pList.append([df1[(df1['주소']==\"온라인개최\")&(df1['시작년']==2020)]['주소'].count(),\n",
    "              df1[(df1['주소']!=\"온라인개최\")&(df1['시작년']==2020)]['주소'].count()])\n",
    "pList.append([df1[(df1['주소']==\"온라인개최\")&(df1['시작년']==2021)]['주소'].count(),\n",
    "              df1[(df1['주소']!=\"온라인개최\")&(df1['시작년']==2021)]['주소'].count()])\n",
    "\n",
    "pList"
   ]
  },
  {
   "cell_type": "code",
   "execution_count": 201,
   "id": "a4fd33af",
   "metadata": {},
   "outputs": [
    {
     "name": "stdout",
     "output_type": "stream",
     "text": [
      "       온라인  오프라인\n",
      "2020년  111   251\n",
      "2021년   34   323\n"
     ]
    }
   ],
   "source": [
    "df2=pd.DataFrame(pList, columns=[\"온라인\", '오프라인'], index=[\"2020년\", \"2021년\"])\n",
    "print(df2)"
   ]
  },
  {
   "cell_type": "code",
   "execution_count": 193,
   "id": "83d4a311",
   "metadata": {},
   "outputs": [
    {
     "data": {
      "image/png": "[encoded data removed]",
      "text/plain": [
       "<Figure size 432x288 with 1 Axes>"
      ]
     },
     "metadata": {
      "needs_background": "light"
     },
     "output_type": "display_data"
    }
   ],
   "source": [
    "from matplotlib import font_manager\n",
    "\n",
    "font_family = font_manager.FontProperties(fname='C:/Windows/Fonts/malgunsl.ttf').get_name()\n",
    "plt.rc('font', family=font_family)\n",
    "\n",
    "df2.plot.bar(rot=0)\n",
    "\n",
    "plt.show()"
   ]
  },
  {
   "cell_type": "code",
   "execution_count": 196,
   "id": "e6b80064",
   "metadata": {},
   "outputs": [],
   "source": [
    "#!pip install seaborn"
   ]
  },
  {
   "cell_type": "code",
   "execution_count": 215,
   "id": "f6031f2a",
   "metadata": {},
   "outputs": [
    {
     "data": {
      "image/png": "[encoded data removed]",
      "text/plain": [
       "<Figure size 720x360 with 2 Axes>"
      ]
     },
     "metadata": {},
     "output_type": "display_data"
    }
   ],
   "source": [
    "import seaborn as sns\n",
    "fig=plt.figure(figsize=(10, 5))\n",
    "\n",
    "#ax1=fig.add_subplot(1, 2, 1)\n",
    "#ax2=fig.add_subplot(1, 2, 2)\n",
    "\n",
    "plt.subplot(1,2,1)\n",
    "x=list(df2.iloc[0])\n",
    "xlab=df2.columns\n",
    "plt.pie(x, labels=xlab, autopct=\"%.1f%%\")\n",
    "plt.title('2020년')\n",
    "\n",
    "plt.subplot(1,2,2)\n",
    "x=list(df2.iloc[1])\n",
    "xlab=df2.columns\n",
    "plt.pie(x, labels=xlab, autopct=\"%.1f%%\")\n",
    "plt.title('2021년')\n",
    "\n",
    "plt.show()"
   ]
  },
  {
   "cell_type": "code",
   "execution_count": 207,
   "id": "3b76cd4a",
   "metadata": {},
   "outputs": [
    {
     "data": {
      "text/plain": [
       "[111, 251]"
      ]
     },
     "execution_count": 207,
     "metadata": {},
     "output_type": "execute_result"
    }
   ],
   "source": [
    "[df2.iloc[0, 0], df2.iloc[0, 1]]"
   ]
  },
  {
   "cell_type": "code",
   "execution_count": 210,
   "id": "17727102",
   "metadata": {},
   "outputs": [
    {
     "name": "stdout",
     "output_type": "stream",
     "text": [
      "[111, 251]\n",
      "[111, 251]\n"
     ]
    }
   ],
   "source": [
    "print(list(df2.loc[\"2020년\"]))\n",
    "print(list(df2.iloc[0]))"
   ]
  },
  {
   "cell_type": "markdown",
   "id": "71b455b8",
   "metadata": {},
   "source": [
    "#### 지역별 축제 현황[각자 코딩]\n",
    "- 주소를 \" \" 기준으로 나누어 첫번째 값 선택\n",
    "- 해당 값을 이용해서 '지역' 열 생성 및 데이터 추가\n",
    "- 지역별 축제 현황 분석(현황 테이블화, 시각화-막대그래프, 원그래프, *히트맵 그래프)"
   ]
  },
  {
   "cell_type": "code",
   "execution_count": null,
   "id": "4f1d54c7",
   "metadata": {},
   "outputs": [],
   "source": []
  },
  {
   "cell_type": "markdown",
   "id": "89f263b0",
   "metadata": {},
   "source": [
    "### 지도에 축제 위치 출력하기\n",
    "- folium 모듈"
   ]
  },
  {
   "cell_type": "code",
   "execution_count": 218,
   "id": "a2ef9e5c",
   "metadata": {},
   "outputs": [],
   "source": [
    "#!pip install folium"
   ]
  },
  {
   "cell_type": "code",
   "execution_count": 219,
   "id": "4107f656",
   "metadata": {},
   "outputs": [],
   "source": [
    "import folium"
   ]
  },
  {
   "cell_type": "code",
   "execution_count": 222,
   "id": "5dcbaabe",
   "metadata": {},
   "outputs": [],
   "source": [
    "umap=folium.Map(location=[37.503386, 127.049797], zoom_start=15)    # 기본 맵 생성, zoom_start=15 :확대/축소\n",
    "\n",
    "### 생성된 맵에 Marker(위치기호)를 추가한다.\n",
    "folium.Marker(location=[37.503386, 127.049797], \n",
    "              icon=folium.Icon(color='red'), \n",
    "              popup='강의장').add_to(umap)\n",
    "\n",
    "umap.save('c:/pydata/강의장.html')"
   ]
  },
  {
   "cell_type": "code",
   "execution_count": 226,
   "id": "32406453",
   "metadata": {},
   "outputs": [],
   "source": [
    "df2=df1[(df1['위도']!=0)&(df1['시작년']==2021)]\n",
    "\n",
    "umap=folium.Map(location=[37.503386, 127.049797], zoom_start=15)\n",
    "\n",
    "for inx in df2.index:\n",
    "    folium.Marker(location=[df2.loc[inx,\"위도\"], df2.loc[inx,'경도']], \n",
    "                  icon=folium.Icon(color='red'), \n",
    "                  popup=df2.loc[inx,\"축제명\"]).add_to(umap)\n",
    "\n",
    "umap.save('c:/pydata/2021년_축제정보.html')"
   ]
  },
  {
   "cell_type": "code",
   "execution_count": 235,
   "id": "722605c7",
   "metadata": {},
   "outputs": [
    {
     "data": {
      "text/html": [
       "<div style=\"width:100%;\"><div style=\"position:relative;width:100%;height:0;padding-bottom:60%;\"><span style=\"color:#565656\">Make this Notebook Trusted to load map: File -> Trust Notebook</span><iframe src=\"about:blank\" style=\"position:absolute;width:100%;height:100%;left:0;top:0;border:none !important;\" data-html=%3C%21DOCTYPE%20html%3E%0A%3Chead%3E%20%20%20%20%0A%20%20%20%20%3Cmeta%20http-equiv%3D%22content-type%22%20content%3D%22text/html%3B%20charset%3DUTF-8%22%20/%3E%0A%20%20%20%20%0A%20%20%20%20%20%20%20%20%3Cscript%3E%0A%20%20%20%20%20%20%20%20%20%20%20%20L_NO_TOUCH%20%3D%20false%3B%0A%20%20%20%20%20%20%20%20%20%20%20%20L_DISABLE_3D%20%3D%20false%3B%0A%20%20%20%20%20%20%20%20%3C/script%3E%0A%20%20%20%20%0A%20%20%20%20%3Cstyle%3Ehtml%2C%20body%20%7Bwidth%3A%20100%25%3Bheight%3A%20100%25%3Bmargin%3A%200%3Bpadding%3A%200%3B%7D%3C/style%3E%0A%20%20%20%20%3Cstyle%3E%23map%20%7Bposition%3Aabsolute%3Btop%3A0%3Bbottom%3A0%3Bright%3A0%3Bleft%3A0%3B%7D%3C/style%3E%0A%20%20%20%20%3Cscript%20src%3D%22https%3A//cdn.jsdelivr.net/npm/leaflet%401.6.0/dist/leaflet.js%22%3E%3C/script%3E%0A%20%20%20%20%3Cscript%20src%3D%22https%3A//code.jquery.com/jquery-1.12.4.min.js%22%3E%3C/script%3E%0A%20%20%20%20%3Cscript%20src%3D%22https%3A//maxcdn.bootstrapcdn.com/bootstrap/3.2.0/js/bootstrap.min.js%22%3E%3C/script%3E%0A%20%20%20%20%3Cscript%20src%3D%22https%3A//cdnjs.cloudflare.com/ajax/libs/Leaflet.awesome-markers/2.0.2/leaflet.awesome-markers.js%22%3E%3C/script%3E%0A%20%20%20%20%3Clink%20rel%3D%22stylesheet%22%20href%3D%22https%3A//cdn.jsdelivr.net/npm/leaflet%401.6.0/dist/leaflet.css%22/%3E%0A%20%20%20%20%3Clink%20rel%3D%22stylesheet%22%20href%3D%22https%3A//maxcdn.bootstrapcdn.com/bootstrap/3.2.0/css/bootstrap.min.css%22/%3E%0A%20%20%20%20%3Clink%20rel%3D%22stylesheet%22%20href%3D%22https%3A//maxcdn.bootstrapcdn.com/bootstrap/3.2.0/css/bootstrap-theme.min.css%22/%3E%0A%20%20%20%20%3Clink%20rel%3D%22stylesheet%22%20href%3D%22https%3A//maxcdn.bootstrapcdn.com/font-awesome/4.6.3/css/font-awesome.min.css%22/%3E%0A%20%20%20%20%3Clink%20rel%3D%22stylesheet%22%20href%3D%22https%3A//cdnjs.cloudflare.com/ajax/libs/Leaflet.awesome-markers/2.0.2/leaflet.awesome-markers.css%22/%3E%0A%20%20%20%20%3Clink%20rel%3D%22stylesheet%22%20href%3D%22https%3A//cdn.jsdelivr.net/gh/python-visualization/folium/folium/templates/leaflet.awesome.rotate.min.css%22/%3E%0A%20%20%20%20%0A%20%20%20%20%20%20%20%20%20%20%20%20%3Cmeta%20name%3D%22viewport%22%20content%3D%22width%3Ddevice-width%2C%0A%20%20%20%20%20%20%20%20%20%20%20%20%20%20%20%20initial-scale%3D1.0%2C%20maximum-scale%3D1.0%2C%20user-scalable%3Dno%22%20/%3E%0A%20%20%20%20%20%20%20%20%20%20%20%20%3Cstyle%3E%0A%20%20%20%20%20%20%20%20%20%20%20%20%20%20%20%20%23map_7321674e31f340b1961a7f686732d680%20%7B%0A%20%20%20%20%20%20%20%20%20%20%20%20%20%20%20%20%20%20%20%20position%3A%20relative%3B%0A%20%20%20%20%20%20%20%20%20%20%20%20%20%20%20%20%20%20%20%20width%3A%20100.0%25%3B%0A%20%20%20%20%20%20%20%20%20%20%20%20%20%20%20%20%20%20%20%20height%3A%20100.0%25%3B%0A%20%20%20%20%20%20%20%20%20%20%20%20%20%20%20%20%20%20%20%20left%3A%200.0%25%3B%0A%20%20%20%20%20%20%20%20%20%20%20%20%20%20%20%20%20%20%20%20top%3A%200.0%25%3B%0A%20%20%20%20%20%20%20%20%20%20%20%20%20%20%20%20%7D%0A%20%20%20%20%20%20%20%20%20%20%20%20%3C/style%3E%0A%20%20%20%20%20%20%20%20%0A%3C/head%3E%0A%3Cbody%3E%20%20%20%20%0A%20%20%20%20%0A%20%20%20%20%20%20%20%20%20%20%20%20%3Cdiv%20class%3D%22folium-map%22%20id%3D%22map_7321674e31f340b1961a7f686732d680%22%20%3E%3C/div%3E%0A%20%20%20%20%20%20%20%20%0A%3C/body%3E%0A%3Cscript%3E%20%20%20%20%0A%20%20%20%20%0A%20%20%20%20%20%20%20%20%20%20%20%20var%20map_7321674e31f340b1961a7f686732d680%20%3D%20L.map%28%0A%20%20%20%20%20%20%20%20%20%20%20%20%20%20%20%20%22map_7321674e31f340b1961a7f686732d680%22%2C%0A%20%20%20%20%20%20%20%20%20%20%20%20%20%20%20%20%7B%0A%20%20%20%20%20%20%20%20%20%20%20%20%20%20%20%20%20%20%20%20center%3A%20%5B37.503386%2C%20127.049797%5D%2C%0A%20%20%20%20%20%20%20%20%20%20%20%20%20%20%20%20%20%20%20%20crs%3A%20L.CRS.EPSG3857%2C%0A%20%20%20%20%20%20%20%20%20%20%20%20%20%20%20%20%20%20%20%20zoom%3A%2015%2C%0A%20%20%20%20%20%20%20%20%20%20%20%20%20%20%20%20%20%20%20%20zoomControl%3A%20true%2C%0A%20%20%20%20%20%20%20%20%20%20%20%20%20%20%20%20%20%20%20%20preferCanvas%3A%20false%2C%0A%20%20%20%20%20%20%20%20%20%20%20%20%20%20%20%20%7D%0A%20%20%20%20%20%20%20%20%20%20%20%20%29%3B%0A%0A%20%20%20%20%20%20%20%20%20%20%20%20%0A%0A%20%20%20%20%20%20%20%20%0A%20%20%20%20%0A%20%20%20%20%20%20%20%20%20%20%20%20var%20tile_layer_e9af47cbd954444faea7a5f3338c62f2%20%3D%20L.tileLayer%28%0A%20%20%20%20%20%20%20%20%20%20%20%20%20%20%20%20%22https%3A//%7Bs%7D.tile.openstreetmap.org/%7Bz%7D/%7Bx%7D/%7By%7D.png%22%2C%0A%20%20%20%20%20%20%20%20%20%20%20%20%20%20%20%20%7B%22attribution%22%3A%20%22Data%20by%20%5Cu0026copy%3B%20%5Cu003ca%20href%3D%5C%22http%3A//openstreetmap.org%5C%22%5Cu003eOpenStreetMap%5Cu003c/a%5Cu003e%2C%20under%20%5Cu003ca%20href%3D%5C%22http%3A//www.openstreetmap.org/copyright%5C%22%5Cu003eODbL%5Cu003c/a%5Cu003e.%22%2C%20%22detectRetina%22%3A%20false%2C%20%22maxNativeZoom%22%3A%2018%2C%20%22maxZoom%22%3A%2018%2C%20%22minZoom%22%3A%200%2C%20%22noWrap%22%3A%20false%2C%20%22opacity%22%3A%201%2C%20%22subdomains%22%3A%20%22abc%22%2C%20%22tms%22%3A%20false%7D%0A%20%20%20%20%20%20%20%20%20%20%20%20%29.addTo%28map_7321674e31f340b1961a7f686732d680%29%3B%0A%20%20%20%20%20%20%20%20%0A%20%20%20%20%0A%20%20%20%20%20%20%20%20%20%20%20%20var%20circle_marker_5e84c91f9883440a9ca84bfe357855a8%20%3D%20L.circleMarker%28%0A%20%20%20%20%20%20%20%20%20%20%20%20%20%20%20%20%5B37.503386%2C%20127.049797%5D%2C%0A%20%20%20%20%20%20%20%20%20%20%20%20%20%20%20%20%7B%22bubblingMouseEvents%22%3A%20true%2C%20%22color%22%3A%20%22red%22%2C%20%22dashArray%22%3A%20null%2C%20%22dashOffset%22%3A%20null%2C%20%22fill%22%3A%20true%2C%20%22fillColor%22%3A%20%22%23ffffgg%22%2C%20%22fillOpacity%22%3A%200.2%2C%20%22fillRule%22%3A%20%22evenodd%22%2C%20%22lineCap%22%3A%20%22round%22%2C%20%22lineJoin%22%3A%20%22round%22%2C%20%22opacity%22%3A%201.0%2C%20%22radius%22%3A%2010%2C%20%22stroke%22%3A%20true%2C%20%22weight%22%3A%203%7D%0A%20%20%20%20%20%20%20%20%20%20%20%20%29.addTo%28map_7321674e31f340b1961a7f686732d680%29%3B%0A%20%20%20%20%20%20%20%20%0A%20%20%20%20%0A%20%20%20%20%20%20%20%20var%20popup_6720ef35d8294d4dba02ff2ef0cc5a6d%20%3D%20L.popup%28%7B%22maxWidth%22%3A%20%22100%25%22%7D%29%3B%0A%0A%20%20%20%20%20%20%20%20%0A%20%20%20%20%20%20%20%20%20%20%20%20var%20html_31bf27bd9fce45389151966ad5174726%20%3D%20%24%28%60%3Cdiv%20id%3D%22html_31bf27bd9fce45389151966ad5174726%22%20style%3D%22width%3A%20100.0%25%3B%20height%3A%20100.0%25%3B%22%3E%EA%B0%95%EC%9D%98%EC%9E%A5%3C/div%3E%60%29%5B0%5D%3B%0A%20%20%20%20%20%20%20%20%20%20%20%20popup_6720ef35d8294d4dba02ff2ef0cc5a6d.setContent%28html_31bf27bd9fce45389151966ad5174726%29%3B%0A%20%20%20%20%20%20%20%20%0A%0A%20%20%20%20%20%20%20%20circle_marker_5e84c91f9883440a9ca84bfe357855a8.bindPopup%28popup_6720ef35d8294d4dba02ff2ef0cc5a6d%29%0A%20%20%20%20%20%20%20%20%3B%0A%0A%20%20%20%20%20%20%20%20%0A%20%20%20%20%0A%3C/script%3E onload=\"this.contentDocument.open();this.contentDocument.write(    decodeURIComponent(this.getAttribute('data-html')));this.contentDocument.close();\" allowfullscreen webkitallowfullscreen mozallowfullscreen></iframe></div></div>"
      ],
      "text/plain": [
       "<folium.folium.Map at 0x251d03c6e50>"
      ]
     },
     "execution_count": 235,
     "metadata": {},
     "output_type": "execute_result"
    }
   ],
   "source": [
    "umap=folium.Map(location=[37.503386, 127.049797], zoom_start=15) \n",
    "\n",
    "### 지도에 동그라미 표시\n",
    "folium.CircleMarker([37.503386, 127.049797],\n",
    "                    color=\"red\",\n",
    "                    fill_color=\"#ffffgg\",\n",
    "                    radius = 10, \n",
    "                    popup=\"강의장\").add_to(umap)\n",
    "\n",
    "umap"
   ]
  },
  {
   "cell_type": "code",
   "execution_count": null,
   "id": "e6a55878",
   "metadata": {},
   "outputs": [],
   "source": []
  },
  {
   "cell_type": "code",
   "execution_count": null,
   "id": "0fb21ff8",
   "metadata": {},
   "outputs": [],
   "source": []
  }
 ],
 "metadata": {
  "kernelspec": {
   "display_name": "Python 3",
   "language": "python",
   "name": "python3"
  },
  "language_info": {
   "codemirror_mode": {
    "name": "ipython",
    "version": 3
   },
   "file_extension": ".py",
   "mimetype": "text/x-python",
   "name": "python",
   "nbconvert_exporter": "python",
   "pygments_lexer": "ipython3",
   "version": "3.9.5"
  }
 },
 "nbformat": 4,
 "nbformat_minor": 5
}
