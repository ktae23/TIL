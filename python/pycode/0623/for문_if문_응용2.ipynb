{
 "cells": [
  {
   "cell_type": "markdown",
   "id": "4c5a081e",
   "metadata": {},
   "source": [
    "### for/if 구문을 이용해 문자 확인하기"
   ]
  },
  {
   "cell_type": "code",
   "execution_count": 6,
   "id": "2f0f1fab",
   "metadata": {},
   "outputs": [
    {
     "name": "stdout",
     "output_type": "stream",
     "text": [
      "5050\n"
     ]
    }
   ],
   "source": [
    "# 1 ~ 100 까지의 합계 계산\n",
    "\n",
    "tot = 0\n",
    "\n",
    "for n in range(101):\n",
    "    tot = tot + n   # tot += n\n",
    "    \n",
    "print(tot)"
   ]
  },
  {
   "cell_type": "code",
   "execution_count": 12,
   "id": "d1dafcee",
   "metadata": {},
   "outputs": [
    {
     "name": "stdout",
     "output_type": "stream",
     "text": [
      "스페이스바 입력 갯수: 8 건\n"
     ]
    }
   ],
   "source": [
    "# 스페이스바 입력 건 구하기\n",
    "\n",
    "text='코로나19 탓에 손도 열심히 씻고, 마스크를 착용하고, 외출도 줄었다.'\n",
    "\n",
    "cnt=0\n",
    "\n",
    "for t in text:     # t에 문자 1개가 입력\n",
    "    if t == \" \":\n",
    "        cnt = cnt + 1\n",
    "        \n",
    "print(f'스페이스바 입력 갯수: {cnt} 건')        "
   ]
  },
  {
   "cell_type": "code",
   "execution_count": 13,
   "id": "3fa3533a",
   "metadata": {},
   "outputs": [
    {
     "name": "stdout",
     "output_type": "stream",
     "text": [
      "스페이스바 입력 갯수: 8 건\n"
     ]
    }
   ],
   "source": [
    "# 스페이스바 입력 건 구하기\n",
    "\n",
    "text='코로나19 탓에 손도 열심히 씻고, 마스크를 착용하고, 외출도 줄었다.'\n",
    "\n",
    "cnt=0\n",
    "\n",
    "for t in range(len(text)):   # t에 인덱싱 값 입력\n",
    "    if text[t] == \" \":\n",
    "        cnt = cnt + 1\n",
    "        \n",
    "print(f'스페이스바 입력 갯수: {cnt} 건') "
   ]
  },
  {
   "cell_type": "code",
   "execution_count": 16,
   "id": "8114c192",
   "metadata": {},
   "outputs": [
    {
     "name": "stdout",
     "output_type": "stream",
     "text": [
      "좋아 글자 갯수: 7 건\n"
     ]
    }
   ],
   "source": [
    "# text 에 있는 '좋아' 라는 단어는 몆번 나올까요?\n",
    "# for문과 if 구문을 사용해 작성\n",
    "\n",
    "text='바나나 좋아, 딸기 좋아 사과좋아 좋오아 좋아요 귤은 너무너무 좋아좋아좋아...'\n",
    "\n",
    "cnt=0\n",
    "\n",
    "for i in range(len(text)):\n",
    "    if text[i] == \"좋\":\n",
    "        if text[i+1] == \"아\":\n",
    "            cnt += 1\n",
    "            \n",
    "print(f'좋아 글자 갯수: {cnt} 건')"
   ]
  },
  {
   "cell_type": "code",
   "execution_count": 29,
   "id": "c41296d1",
   "metadata": {},
   "outputs": [
    {
     "name": "stdout",
     "output_type": "stream",
     "text": [
      "'좋아'의 갯수는 7개 입니다.\n"
     ]
    }
   ],
   "source": [
    "# text 에 있는 '좋아' 라는 단어는 몆번 나올까요?\n",
    "# for문과 if 구문을 1회 사용해 작성\n",
    "\n",
    "txt='바나나 좋아, 딸기 좋아 사과좋아 좋오아 좋아요 귤은 너무너무 좋아좋아좋아...'\n",
    "\n",
    "cnt=0\n",
    "\n",
    "for t in range(len(txt)-1):\n",
    "    if txt[t]+txt[t+1] == '좋아':\n",
    "        cnt = cnt+1\n",
    "        \n",
    "print(f\"'좋아'의 갯수는 {cnt}개 입니다.\")\n"
   ]
  },
  {
   "cell_type": "code",
   "execution_count": 19,
   "id": "144c6a8e",
   "metadata": {},
   "outputs": [
    {
     "name": "stdout",
     "output_type": "stream",
     "text": [
      "7\n"
     ]
    }
   ],
   "source": [
    "txt='바나나 좋아, 딸기 좋아 사과좋아 좋오아 좋아요 귤은 너무너무 좋아좋아좋아...'\n",
    "\n",
    "cnt=0\n",
    "tmp=''\n",
    "\n",
    "for t in txt:\n",
    "        tmp = tmp + t\n",
    "        if tmp[-2:] == '좋아':\n",
    "            cnt = cnt+1\n",
    "            tmp = ''\n",
    "            \n",
    "print(cnt)"
   ]
  },
  {
   "cell_type": "code",
   "execution_count": 20,
   "id": "250b219f",
   "metadata": {},
   "outputs": [
    {
     "name": "stdout",
     "output_type": "stream",
     "text": [
      "좋아의 갯수는 : 7건\n"
     ]
    }
   ],
   "source": [
    "txt='바나나 좋아, 딸기 좋아 사과좋아 좋오아 좋아요 귤은 너무너무 좋아좋아좋아...'\n",
    "\n",
    "a=0\n",
    "\n",
    "for i in range(len(txt)):\n",
    "    if txt[i] == '좋' and txt[i+1] == '아':\n",
    "            a+=1\n",
    "            \n",
    "print(f'좋아의 갯수는 : {a}건')\n"
   ]
  },
  {
   "cell_type": "code",
   "execution_count": 30,
   "id": "99a7834f",
   "metadata": {},
   "outputs": [
    {
     "name": "stdout",
     "output_type": "stream",
     "text": [
      "'좋아'의 갯수는 7개 입니다.\n",
      "['바나', '나나', '나 ', ' 좋', '좋아', '아,', ', ', ' 딸', '딸기', '기 ', ' 좋', '좋아', '아 ', ' 사', '사과', '과좋', '좋아', '아 ', ' 좋', '좋오', '오아', '아 ', ' 좋', '좋아', '아요', '요 ', ' 귤', '귤은', '은 ', ' 너', '너무', '무너', '너무', '무 ', ' 좋', '좋아', '아좋', '좋아', '아좋', '좋아', '아.', '..', '..']\n"
     ]
    }
   ],
   "source": [
    "txt='바나나 좋아, 딸기 좋아 사과좋아 좋오아 좋아요 귤은 너무너무 좋아좋아좋아...'\n",
    "\n",
    "cnt=0\n",
    "txt_lst=[]\n",
    "\n",
    "for i in range(len(txt)-1):\n",
    "    txt_lst.append(txt[i:i+2])\n",
    "    if txt[i:i+2] == \"좋아\":\n",
    "        cnt=cnt+1\n",
    "        \n",
    "print(f\"'좋아'의 갯수는 {cnt}개 입니다.\")\n",
    "print(txt_lst)"
   ]
  },
  {
   "cell_type": "code",
   "execution_count": 35,
   "id": "69faf36d",
   "metadata": {},
   "outputs": [
    {
     "name": "stdout",
     "output_type": "stream",
     "text": [
      "찾을 단어 입력: 사과좋아\n",
      "사과좋아 단어 갯수: 1개\n"
     ]
    }
   ],
   "source": [
    "# 사용자로부터 단어를 입력받아 해당 단어의 갯수 확인하기\n",
    "\n",
    "txt='바나나 좋아, 딸기 좋아 사과좋아 좋오아 좋아요 귤은 너무너무 좋아좋아좋아...'\n",
    "\n",
    "입력단어=input(\"찾을 단어 입력: \")\n",
    "글자수=len(입력단어)\n",
    "\n",
    "cnt=0\n",
    "\n",
    "for i in range(len(txt)-(글자수-1)):\n",
    "    if txt[i:i+글자수] == 입력단어:\n",
    "        cnt+=1\n",
    "        \n",
    "print(f'{입력단어} 단어 갯수: {cnt}개')"
   ]
  },
  {
   "cell_type": "markdown",
   "id": "e7e7e922",
   "metadata": {},
   "source": []
  },
  {
   "cell_type": "code",
   "execution_count": null,
   "id": "c025d3e1",
   "metadata": {},
   "outputs": [],
   "source": []
  },
  {
   "cell_type": "code",
   "execution_count": null,
   "id": "5bbddcd0",
   "metadata": {},
   "outputs": [],
   "source": []
  },
  {
   "cell_type": "code",
   "execution_count": null,
   "id": "3e55fc5e",
   "metadata": {},
   "outputs": [],
   "source": []
  },
  {
   "cell_type": "code",
   "execution_count": null,
   "id": "c389a965",
   "metadata": {},
   "outputs": [],
   "source": []
  },
  {
   "cell_type": "code",
   "execution_count": null,
   "id": "e5bd8195",
   "metadata": {},
   "outputs": [],
   "source": []
  }
 ],
 "metadata": {
  "kernelspec": {
   "display_name": "Python 3",
   "language": "python",
   "name": "python3"
  },
  "language_info": {
   "codemirror_mode": {
    "name": "ipython",
    "version": 3
   },
   "file_extension": ".py",
   "mimetype": "text/x-python",
   "name": "python",
   "nbconvert_exporter": "python",
   "pygments_lexer": "ipython3",
   "version": "3.9.5"
  }
 },
 "nbformat": 4,
 "nbformat_minor": 5
}
