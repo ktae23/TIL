{
 "cells": [
  {
   "cell_type": "markdown",
   "id": "4088d25c",
   "metadata": {},
   "source": [
    "### API를 이용한 지하철 탑승현황 데이터 가져오기"
   ]
  },
  {
   "cell_type": "code",
   "execution_count": 1,
   "id": "9feab493",
   "metadata": {},
   "outputs": [],
   "source": [
    "from tqdm import tqdm\n",
    "from bs4 import BeautifulSoup as bs\n",
    "import pandas as pd\n",
    "import requests"
   ]
  },
  {
   "cell_type": "code",
   "execution_count": 2,
   "id": "c25459d8",
   "metadata": {},
   "outputs": [],
   "source": [
    "### 사용자가 원하는 url 생성 함수\n",
    "def url_print(tdate, uRow=5):\n",
    "    uKey = \"7672746155736a6436336451676175\"\n",
    "    url_gibon=\"http://openapi.seoul.go.kr:8088/\" + uKey\n",
    "    url_obj=\"/xml/CardSubwayStatsNew/\"\n",
    "    url_row=\"1/\"+ str(uRow) +\"/\"\n",
    "    url_date=str(tdate)\n",
    "    url=url_gibon+url_obj+url_row+url_date\n",
    "\n",
    "    url_soup=html_parser(url)\n",
    "\n",
    "    return url_soup"
   ]
  },
  {
   "cell_type": "code",
   "execution_count": 3,
   "id": "04dfe386",
   "metadata": {},
   "outputs": [],
   "source": [
    "### url을 이용한 웹 사이트 파씽\n",
    "def html_parser(url):\n",
    "    url_xml = requests.get(url)\n",
    "    \n",
    "    if url_xml.status_code != 200:\n",
    "        print('데이터를 가져오지 못했습니다.')\n",
    "        exit()\n",
    "        \n",
    "    soup = bs(url_xml.content, 'html.parser')\n",
    "    return soup"
   ]
  },
  {
   "cell_type": "code",
   "execution_count": 4,
   "id": "b48d725d",
   "metadata": {},
   "outputs": [],
   "source": [
    "### 딕셔너리 구조로 저장 후 DataFarame 구조로 변경\n",
    "def seoul_sw_pandas(seoul_sw_soup):\n",
    "    xml_row = seoul_sw_soup.find_all('row')\n",
    "    xml_txt = []\n",
    "    for row in xml_row:\n",
    "        dt = row.find('use_dt').text               # 사용일자\n",
    "        line = row.find('line_num').text           # 호선(라인)\n",
    "        sub_sta = row.find('sub_sta_nm').text      # 역이름\n",
    "        ride = row.find('ride_pasgr_num').text     # 승차총인원\n",
    "        alight = row.find('alight_pasgr_num').text # 하차총인원\n",
    "\n",
    "        xml_txt.append({'사용일': dt, '라인': line, '역명': sub_sta, '승차': ride, '하차': alight})\n",
    "\n",
    "    #print(xml_txt)\n",
    "    df = pd.DataFrame(xml_txt)\n",
    "    return df"
   ]
  },
  {
   "cell_type": "code",
   "execution_count": 12,
   "id": "5dbf46c7",
   "metadata": {},
   "outputs": [],
   "source": [
    "# 시작일부터 종료일까지의 날짜문자 리스트를 이용해 전체 일자별 데이터 조회 pandas.concat()을 이용한 행추가\n",
    "def main_api(sDt,eDt):\n",
    "    \n",
    "    # pd.date_range(start=staDate, end=endDate) : 시작일부터 종료일까지 날짜 생성, 시작일/종료일=>문자형\n",
    "    dt_index=pd.date_range(start=sDt, end=eDt)\n",
    "    dtList=dt_index.strftime(\"%Y%m%d\").tolist()   # 날짜형을 문자형으로 변경후 리스트형으로 저장\n",
    "  \n",
    "    df0=pd.DataFrame()  # 전체 데이터 저장 변수\n",
    "    \n",
    "    for sDt in tqdm(dtList, desc=\"진행율: \"):\n",
    "        seoul_sw_soup=url_print(sDt)    # 한페이지에 5개의 데이터가 출력된 url 정보 가져오기\n",
    "        uRow=seoul_sw_soup.find('list_total_count').text   # 조회된 전체 데이터 개수 추출하기\n",
    "        seoul_sw_soup=url_print(sDt, uRow)    # 한페이지에 추출한 전체 데이터 출력 url 정보 가져오기\n",
    "        df=seoul_sw_pandas(seoul_sw_soup)   # 요청 데이터에 대한 DataFrame 형식으로 변경하기\n",
    "        \n",
    "        df0=pd.concat([df0, df], ignore_index=True)   # ignore_index=True: 인덱스 재배열(재설정)\n",
    "        \n",
    "    return df0"
   ]
  },
  {
   "cell_type": "code",
   "execution_count": 13,
   "id": "1130de8a",
   "metadata": {},
   "outputs": [
    {
     "name": "stdout",
     "output_type": "stream",
     "text": [
      "시작일 입력(예: 20210101): 20210101\n",
      "종료일 입력(예: 20210101): 20210630\n"
     ]
    },
    {
     "name": "stderr",
     "output_type": "stream",
     "text": [
      "진행율: 100%|████████████████████████████████████████████████████████████████████████| 181/181 [01:03<00:00,  2.83it/s]"
     ]
    },
    {
     "name": "stdout",
     "output_type": "stream",
     "text": [
      "===== 작업종료 =====\n"
     ]
    },
    {
     "name": "stderr",
     "output_type": "stream",
     "text": [
      "\n"
     ]
    }
   ],
   "source": [
    "if __name__ == \"__main__\":\n",
    "    sDt=input('시작일 입력(예: 20210101): ')\n",
    "    eDt=input('종료일 입력(예: 20210101): ')\n",
    "    \n",
    "    df0=main_api(sDt,eDt)\n",
    "    \n",
    "    print('===== 작업종료 =====')"
   ]
  },
  {
   "cell_type": "code",
   "execution_count": null,
   "id": "f230c3ed",
   "metadata": {},
   "outputs": [],
   "source": []
  }
 ],
 "metadata": {
  "kernelspec": {
   "display_name": "Python 3",
   "language": "python",
   "name": "python3"
  },
  "language_info": {
   "codemirror_mode": {
    "name": "ipython",
    "version": 3
   },
   "file_extension": ".py",
   "mimetype": "text/x-python",
   "name": "python",
   "nbconvert_exporter": "python",
   "pygments_lexer": "ipython3",
   "version": "3.9.5"
  }
 },
 "nbformat": 4,
 "nbformat_minor": 5
}
