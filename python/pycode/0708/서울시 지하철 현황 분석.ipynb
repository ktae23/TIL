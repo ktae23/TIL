{
 "cells": [
  {
   "cell_type": "code",
   "execution_count": 1,
   "id": "4bde7f81",
   "metadata": {},
   "outputs": [
    {
     "name": "stdout",
     "output_type": "stream",
     "text": [
      "시작일 입력(예: 20210101): 20210101\n",
      "종료일 입력(예: 20210101): 20210131\n"
     ]
    },
    {
     "name": "stderr",
     "output_type": "stream",
     "text": [
      "진행율: 100%|██████████████████████████████████████████████████████████████████████████| 31/31 [00:11<00:00,  2.72it/s]"
     ]
    },
    {
     "name": "stdout",
     "output_type": "stream",
     "text": [
      "            사용일   라인    역명    승차    하차\n",
      "0      20210101  1호선   서울역  9260  9858\n",
      "1      20210101  1호선   동묘앞  4153  4491\n",
      "2      20210101  1호선    시청  2906  2654\n",
      "3      20210101  1호선    종각  5637  4936\n",
      "4      20210101  1호선  종로3가  5502  4910\n",
      "...         ...  ...   ...   ...   ...\n",
      "18532  20210131  중앙선    오빈   129   121\n",
      "18533  20210131  중앙선    양평  1466  1331\n",
      "18534  20210131  중앙선    원덕   226   211\n",
      "18535  20210131  중앙선    용문  1315  1076\n",
      "18536  20210131  중앙선    지평    43    19\n",
      "\n",
      "[18537 rows x 5 columns]\n"
     ]
    },
    {
     "name": "stderr",
     "output_type": "stream",
     "text": [
      "\n"
     ]
    }
   ],
   "source": [
    "import 서울시_지하철_승하차_현황_API as sw\n",
    "\n",
    "sDt=input('시작일 입력(예: 20210101): ')\n",
    "eDt=input('종료일 입력(예: 20210101): ')\n",
    "\n",
    "df0=sw.main_api(sDt, eDt)\n",
    "\n",
    "print(df0)"
   ]
  },
  {
   "cell_type": "code",
   "execution_count": null,
   "id": "ee61f786",
   "metadata": {},
   "outputs": [],
   "source": []
  }
 ],
 "metadata": {
  "kernelspec": {
   "display_name": "Python 3",
   "language": "python",
   "name": "python3"
  },
  "language_info": {
   "codemirror_mode": {
    "name": "ipython",
    "version": 3
   },
   "file_extension": ".py",
   "mimetype": "text/x-python",
   "name": "python",
   "nbconvert_exporter": "python",
   "pygments_lexer": "ipython3",
   "version": "3.9.5"
  }
 },
 "nbformat": 4,
 "nbformat_minor": 5
}
