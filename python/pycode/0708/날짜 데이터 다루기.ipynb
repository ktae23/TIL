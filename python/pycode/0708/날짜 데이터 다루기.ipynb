{
 "cells": [
  {
   "cell_type": "code",
   "execution_count": 12,
   "id": "131ccd79",
   "metadata": {},
   "outputs": [],
   "source": [
    "from tqdm import tqdm\n",
    "import pandas as pd\n",
    "import datetime"
   ]
  },
  {
   "cell_type": "code",
   "execution_count": 21,
   "id": "c13a3902",
   "metadata": {},
   "outputs": [
    {
     "name": "stdout",
     "output_type": "stream",
     "text": [
      "조회 시작일 입력(예: 20210101): 20210131\n",
      "2021-01-31 00:00:00\n",
      "<class 'datetime.datetime'>\n",
      "2021-01-31\n",
      "<class 'str'>\n",
      "2021-02-01 00:00:00\n",
      "20210201\n"
     ]
    }
   ],
   "source": [
    "sDt=input('조회 시작일 입력(예: 20210101): ')  # 20210101\n",
    "\n",
    "# Y:네자리 년도/y:두자리 년도 m:두자리 월, d: 두자리 일 \n",
    "# .strptime(\"날짜문자열\", \"포맷\") => 문자형 자료를 날짜형 자료로 변환\n",
    "dtime=datetime.datetime.strptime(sDt, \"%Y%m%d\")     \n",
    "print(dtime)\n",
    "print(type(dtime))\n",
    "\n",
    "# .strftime(\"%y-%m-%d\") : 날짜형 데이터의 출력 모양 선택, 최종 문자형 데이터로~~\n",
    "stime=dtime.strftime(\"%Y-%m-%d\")   \n",
    "print(stime)\n",
    "print(type(stime))\n",
    "\n",
    "ptime=dtime + datetime.timedelta(days=1)  # 1일 증가\n",
    "print(ptime)\n",
    "print(ptime.strftime(\"%Y%m%d\"))"
   ]
  },
  {
   "cell_type": "code",
   "execution_count": 25,
   "id": "38e2bfad",
   "metadata": {},
   "outputs": [
    {
     "name": "stdout",
     "output_type": "stream",
     "text": [
      "2021-07-08 14:13:11.967722\n",
      "54 days, 14:13:11.967722\n",
      "54\n"
     ]
    }
   ],
   "source": [
    "print(datetime.datetime.now())\n",
    "\n",
    "tday=datetime.datetime.now()-datetime.datetime.strptime(\"20210515\", \"%Y%m%d\")\n",
    "print(tday)\n",
    "print(tday.days)"
   ]
  },
  {
   "cell_type": "markdown",
   "id": "5b62647f",
   "metadata": {},
   "source": [
    "### 미션: 두 문자형 날짜를 입력 받아 두 날짜에 대한 일자차 구하기\n",
    "- 시작일/종료일 입력받기\n",
    "- 두 데이터 날짜형 데이터로 변경하기\n",
    "- 종료일-시작일 계산 후 날짜 차이(일수) 계산"
   ]
  },
  {
   "cell_type": "code",
   "execution_count": 34,
   "id": "300fb767",
   "metadata": {},
   "outputs": [
    {
     "name": "stdout",
     "output_type": "stream",
     "text": [
      "17\n",
      "2021-04-20 00:00:00\n"
     ]
    }
   ],
   "source": [
    "import datetime\n",
    "\n",
    "sDt='20210223'\n",
    "eDt='2021-03-12'\n",
    "\n",
    "sDate=datetime.datetime.strptime(sDt, \"%Y%m%d\")\n",
    "eDate=datetime.datetime.strptime(eDt, \"%Y-%m-%d\")\n",
    "\n",
    "interDate=eDate-sDate\n",
    "print(interDate.days)\n",
    "\n",
    "print(sDate+datetime.timedelta(days=interDate.days))"
   ]
  },
  {
   "cell_type": "code",
   "execution_count": 31,
   "id": "289b3f38",
   "metadata": {},
   "outputs": [
    {
     "name": "stdout",
     "output_type": "stream",
     "text": [
      "17\n"
     ]
    }
   ],
   "source": [
    "import datetime\n",
    "\n",
    "sDt='20210223'\n",
    "eDt='2021-03-12'\n",
    "\n",
    "print((datetime.datetime.strptime(eDt, \"%Y-%m-%d\")-datetime.datetime.strptime(sDt, \"%Y%m%d\")).days)"
   ]
  },
  {
   "cell_type": "markdown",
   "id": "da13afb3",
   "metadata": {},
   "source": [
    "### 미션: 시작일부터 종료일 사이의 모든 날짜 추출\n",
    "- 시작일/종료일 입력\n",
    "- 입력 받은 데이터 날짜형 데이터 변경\n",
    "- 두 날짜의 차이 값 계산(일수)\n",
    "- 시작일부터 계산 일수 만큼 날짜 1일씩 증가\n",
    "- 각 생성 일자는 문자형 데이터로 변경 후 리스트에 추가"
   ]
  },
  {
   "cell_type": "code",
   "execution_count": 38,
   "id": "83e81ac6",
   "metadata": {},
   "outputs": [
    {
     "name": "stdout",
     "output_type": "stream",
     "text": [
      "시작일 입력(예: 20210101): 20210101\n",
      "종료일 입력(예: 20210101): 20210331\n"
     ]
    },
    {
     "name": "stderr",
     "output_type": "stream",
     "text": [
      "진행율: 100%|███████████████████████████████████████████████████████████████████████| 90/90 [00:00<00:00, 90437.80it/s]"
     ]
    },
    {
     "name": "stdout",
     "output_type": "stream",
     "text": [
      "['20210101', '20210102', '20210103', '20210104', '20210105', '20210106', '20210107', '20210108', '20210109', '20210110', '20210111', '20210112', '20210113', '20210114', '20210115', '20210116', '20210117', '20210118', '20210119', '20210120', '20210121', '20210122', '20210123', '20210124', '20210125', '20210126', '20210127', '20210128', '20210129', '20210130', '20210131', '20210201', '20210202', '20210203', '20210204', '20210205', '20210206', '20210207', '20210208', '20210209', '20210210', '20210211', '20210212', '20210213', '20210214', '20210215', '20210216', '20210217', '20210218', '20210219', '20210220', '20210221', '20210222', '20210223', '20210224', '20210225', '20210226', '20210227', '20210228', '20210301', '20210302', '20210303', '20210304', '20210305', '20210306', '20210307', '20210308', '20210309', '20210310', '20210311', '20210312', '20210313', '20210314', '20210315', '20210316', '20210317', '20210318', '20210319', '20210320', '20210321', '20210322', '20210323', '20210324', '20210325', '20210326', '20210327', '20210328', '20210329', '20210330', '20210331']\n"
     ]
    },
    {
     "name": "stderr",
     "output_type": "stream",
     "text": [
      "\n"
     ]
    }
   ],
   "source": [
    "# 시작일/종료일 입력\n",
    "\n",
    "sDt=input('시작일 입력(예: 20210101): ')\n",
    "eDt=input('종료일 입력(예: 20210101): ')\n",
    "\n",
    "# 입력 받은 데이터 날짜형 데이터 변경\n",
    "sDate=datetime.datetime.strptime(sDt, \"%Y%m%d\")\n",
    "eDate=datetime.datetime.strptime(eDt, \"%Y%m%d\")\n",
    "\n",
    "# 두 날짜의 차이 값 계산(일수)\n",
    "vDt=(eDate-sDate).days\n",
    "\n",
    "# 시작일부터 계산 일수 만큼 날짜 1일씩 증가\n",
    "# 각 생성 일자는 문자형 데이터로 변경 후 리스트에 추가\n",
    "\n",
    "dtList=[]\n",
    "for i in tqdm(range(vDt+1), desc='진행율: '):\n",
    "    pDt=sDate+datetime.timedelta(days=i)\n",
    "    dtList.append(pDt.strftime(\"%Y%m%d\"))\n",
    "    \n",
    "print(dtList)"
   ]
  },
  {
   "cell_type": "code",
   "execution_count": 41,
   "id": "d6000660",
   "metadata": {},
   "outputs": [
    {
     "name": "stdout",
     "output_type": "stream",
     "text": [
      "시작일 입력(예: 20210101): 20210101\n",
      "종료일 입력(예: 20210101): 20210131\n",
      "['20210101', '20210102', '20210103', '20210104', '20210105', '20210106', '20210107', '20210108', '20210109', '20210110', '20210111', '20210112', '20210113', '20210114', '20210115', '20210116', '20210117', '20210118', '20210119', '20210120', '20210121', '20210122', '20210123', '20210124', '20210125', '20210126', '20210127', '20210128', '20210129', '20210130', '20210131']\n"
     ]
    }
   ],
   "source": [
    "sDt=input('시작일 입력(예: 20210101): ')\n",
    "eDt=input('종료일 입력(예: 20210101): ')\n",
    "\n",
    "# pd.date_range(start=staDate, end=endDate) : 시작일부터 종료일까지 날짜 생성, 시작일/종료일=>문자형\n",
    "dt_index=pd.date_range(start=sDt, end=eDt)\n",
    "dtList=dt_index.strftime(\"%Y%m%d\").tolist()   # 날짜형을 문자형으로 변경후 리스트형으로 저장\n",
    "print(dtList)"
   ]
  },
  {
   "cell_type": "code",
   "execution_count": null,
   "id": "498621c0",
   "metadata": {},
   "outputs": [],
   "source": []
  },
  {
   "cell_type": "code",
   "execution_count": null,
   "id": "277cc5e2",
   "metadata": {},
   "outputs": [],
   "source": []
  },
  {
   "cell_type": "code",
   "execution_count": null,
   "id": "eebc42f1",
   "metadata": {},
   "outputs": [],
   "source": []
  },
  {
   "cell_type": "code",
   "execution_count": null,
   "id": "a4f70428",
   "metadata": {},
   "outputs": [],
   "source": []
  }
 ],
 "metadata": {
  "kernelspec": {
   "display_name": "Python 3",
   "language": "python",
   "name": "python3"
  },
  "language_info": {
   "codemirror_mode": {
    "name": "ipython",
    "version": 3
   },
   "file_extension": ".py",
   "mimetype": "text/x-python",
   "name": "python",
   "nbconvert_exporter": "python",
   "pygments_lexer": "ipython3",
   "version": "3.9.5"
  }
 },
 "nbformat": 4,
 "nbformat_minor": 5
}
