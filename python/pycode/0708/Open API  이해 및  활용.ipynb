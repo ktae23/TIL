{
 "cells": [
  {
   "cell_type": "markdown",
   "id": "exotic-festival",
   "metadata": {},
   "source": [
    "###  서울시 공공데이터 api 연결\n",
    "- 서울시 지하철 역별 승하차 인원"
   ]
  },
  {
   "cell_type": "code",
   "execution_count": 2,
   "id": "electronic-explanation",
   "metadata": {},
   "outputs": [],
   "source": [
    "import requests     # 웹에서 소스 코드 가져오는 모듈   \n",
    "from bs4 import BeautifulSoup as bs  # 가져온 코드를 사용자가 보기 편하게 변경     \n",
    "import pandas as pd"
   ]
  },
  {
   "cell_type": "code",
   "execution_count": 3,
   "id": "initial-narrow",
   "metadata": {},
   "outputs": [
    {
     "name": "stdout",
     "output_type": "stream",
     "text": [
      "http://openapi.seoul.go.kr:8088/4c61725246736a6437385345774350/xml/CardSubwayStatsNew/1/10/20210312\n"
     ]
    }
   ],
   "source": [
    "url_1='http://openapi.seoul.go.kr:8088/'\n",
    "url_key='4c61725246736a6437385345774350'\n",
    "url_2='/xml/CardSubwayStatsNew'\n",
    "url_str='/1'\n",
    "url_end='/10'\n",
    "url_date='/20210312'\n",
    "\n",
    "url=url_1+url_key+url_2+url_str+url_end+url_date\n",
    "print(url)"
   ]
  },
  {
   "cell_type": "markdown",
   "id": "three-china",
   "metadata": {},
   "source": [
    "### API\n",
    "- requests 라이브러리는 매우 직관적인 API를 제공\n",
    "- 어떤 방식(method)의 HTTP 요청을 하느냐에 따라서 해당하는 이름의 함수를 사용하면 됩니다.\n",
    "\n",
    "- GET 방식: requests.get()\n",
    "- POST 방식: requests.post()\n",
    "- PUT 방식: requests.put()\n",
    "- DELETE 방식: requests.delete()"
   ]
  },
  {
   "cell_type": "code",
   "execution_count": 5,
   "id": "small-governor",
   "metadata": {},
   "outputs": [
    {
     "name": "stdout",
     "output_type": "stream",
     "text": [
      "<Response [200]>\n"
     ]
    }
   ],
   "source": [
    "xml=requests.get(url)\n",
    "print(xml)"
   ]
  },
  {
   "cell_type": "markdown",
   "id": "compliant-therapy",
   "metadata": {},
   "source": [
    "- 응답 전문(response body/payload)에 요청한 데이터가 담겨져 옵\n",
    "- content 속성: 바이너리 원문을 가져온다."
   ]
  },
  {
   "cell_type": "code",
   "execution_count": 6,
   "id": "fuzzy-dealer",
   "metadata": {},
   "outputs": [
    {
     "data": {
      "text/plain": [
       "b'<?xml version=\"1.0\" encoding=\"UTF-8\"?>\\n<CardSubwayStatsNew>\\n<list_total_count>600</list_total_count>\\n<RESULT>\\n<CODE>INFO-000</CODE>\\n<MESSAGE>\\xec\\xa0\\x95\\xec\\x83\\x81 \\xec\\xb2\\x98\\xeb\\xa6\\xac\\xeb\\x90\\x98\\xec\\x97\\x88\\xec\\x8a\\xb5\\xeb\\x8b\\x88\\xeb\\x8b\\xa4</MESSAGE>\\n</RESULT>\\n<row>\\n<USE_DT>20210312</USE_DT>\\n<LINE_NUM>1\\xed\\x98\\xb8\\xec\\x84\\xa0</LINE_NUM>\\n<SUB_STA_NM>\\xec\\x84\\x9c\\xec\\x9a\\xb8\\xec\\x97\\xad</SUB_STA_NM>\\n<RIDE_PASGR_NUM>44072</RIDE_PASGR_NUM>\\n<ALIGHT_PASGR_NUM>42114</ALIGHT_PASGR_NUM>\\n<WORK_DT>20210315</WORK_DT>\\n</row>\\n<row>\\n<USE_DT>20210312</USE_DT>\\n<LINE_NUM>1\\xed\\x98\\xb8\\xec\\x84\\xa0</LINE_NUM>\\n<SUB_STA_NM>\\xeb\\x8f\\x99\\xeb\\xac\\x98\\xec\\x95\\x9e</SUB_STA_NM>\\n<RIDE_PASGR_NUM>7932</RIDE_PASGR_NUM>\\n<ALIGHT_PASGR_NUM>8423</ALIGHT_PASGR_NUM>\\n<WORK_DT>20210315</WORK_DT>\\n</row>\\n<row>\\n<USE_DT>20210312</USE_DT>\\n<LINE_NUM>1\\xed\\x98\\xb8\\xec\\x84\\xa0</LINE_NUM>\\n<SUB_STA_NM>\\xec\\x8b\\x9c\\xec\\xb2\\xad</SUB_STA_NM>\\n<RIDE_PASGR_NUM>20953</RIDE_PASGR_NUM>\\n<ALIGHT_PASGR_NUM>20850</ALIGHT_PASGR_NUM>\\n<WORK_DT>20210315</WORK_DT>\\n</row>\\n<row>\\n<USE_DT>20210312</USE_DT>\\n<LINE_NUM>1\\xed\\x98\\xb8\\xec\\x84\\xa0</LINE_NUM>\\n<SUB_STA_NM>\\xec\\xa2\\x85\\xea\\xb0\\x81</SUB_STA_NM>\\n<RIDE_PASGR_NUM>34582</RIDE_PASGR_NUM>\\n<ALIGHT_PASGR_NUM>33341</ALIGHT_PASGR_NUM>\\n<WORK_DT>20210315</WORK_DT>\\n</row>\\n<row>\\n<USE_DT>20210312</USE_DT>\\n<LINE_NUM>1\\xed\\x98\\xb8\\xec\\x84\\xa0</LINE_NUM>\\n<SUB_STA_NM>\\xec\\xa2\\x85\\xeb\\xa1\\x9c3\\xea\\xb0\\x80</SUB_STA_NM>\\n<RIDE_PASGR_NUM>25306</RIDE_PASGR_NUM>\\n<ALIGHT_PASGR_NUM>23330</ALIGHT_PASGR_NUM>\\n<WORK_DT>20210315</WORK_DT>\\n</row>\\n<row>\\n<USE_DT>20210312</USE_DT>\\n<LINE_NUM>1\\xed\\x98\\xb8\\xec\\x84\\xa0</LINE_NUM>\\n<SUB_STA_NM>\\xec\\xa2\\x85\\xeb\\xa1\\x9c5\\xea\\xb0\\x80</SUB_STA_NM>\\n<RIDE_PASGR_NUM>22468</RIDE_PASGR_NUM>\\n<ALIGHT_PASGR_NUM>22298</ALIGHT_PASGR_NUM>\\n<WORK_DT>20210315</WORK_DT>\\n</row>\\n<row>\\n<USE_DT>20210312</USE_DT>\\n<LINE_NUM>1\\xed\\x98\\xb8\\xec\\x84\\xa0</LINE_NUM>\\n<SUB_STA_NM>\\xeb\\x8f\\x99\\xeb\\x8c\\x80\\xeb\\xac\\xb8</SUB_STA_NM>\\n<RIDE_PASGR_NUM>10669</RIDE_PASGR_NUM>\\n<ALIGHT_PASGR_NUM>10199</ALIGHT_PASGR_NUM>\\n<WORK_DT>20210315</WORK_DT>\\n</row>\\n<row>\\n<USE_DT>20210312</USE_DT>\\n<LINE_NUM>1\\xed\\x98\\xb8\\xec\\x84\\xa0</LINE_NUM>\\n<SUB_STA_NM>\\xec\\x8b\\xa0\\xec\\x84\\xa4\\xeb\\x8f\\x99</SUB_STA_NM>\\n<RIDE_PASGR_NUM>14073</RIDE_PASGR_NUM>\\n<ALIGHT_PASGR_NUM>13833</ALIGHT_PASGR_NUM>\\n<WORK_DT>20210315</WORK_DT>\\n</row>\\n<row>\\n<USE_DT>20210312</USE_DT>\\n<LINE_NUM>1\\xed\\x98\\xb8\\xec\\x84\\xa0</LINE_NUM>\\n<SUB_STA_NM>\\xec\\xa0\\x9c\\xea\\xb8\\xb0\\xeb\\x8f\\x99</SUB_STA_NM>\\n<RIDE_PASGR_NUM>16727</RIDE_PASGR_NUM>\\n<ALIGHT_PASGR_NUM>16898</ALIGHT_PASGR_NUM>\\n<WORK_DT>20210315</WORK_DT>\\n</row>\\n<row>\\n<USE_DT>20210312</USE_DT>\\n<LINE_NUM>1\\xed\\x98\\xb8\\xec\\x84\\xa0</LINE_NUM>\\n<SUB_STA_NM>\\xec\\xb2\\xad\\xeb\\x9f\\x89\\xeb\\xa6\\xac(\\xec\\x84\\x9c\\xec\\x9a\\xb8\\xec\\x8b\\x9c\\xeb\\xa6\\xbd\\xeb\\x8c\\x80\\xec\\x9e\\x85\\xea\\xb5\\xac)</SUB_STA_NM>\\n<RIDE_PASGR_NUM>20345</RIDE_PASGR_NUM>\\n<ALIGHT_PASGR_NUM>20267</ALIGHT_PASGR_NUM>\\n<WORK_DT>20210315</WORK_DT>\\n</row>\\n</CardSubwayStatsNew>\\n'"
      ]
     },
     "execution_count": 6,
     "metadata": {},
     "output_type": "execute_result"
    }
   ],
   "source": [
    "xml.content"
   ]
  },
  {
   "cell_type": "markdown",
   "id": "announced-hygiene",
   "metadata": {},
   "source": [
    "- text 속성: UTF-8로 인코딩된 문자열을 가져온다."
   ]
  },
  {
   "cell_type": "code",
   "execution_count": 7,
   "id": "pursuant-elevation",
   "metadata": {},
   "outputs": [
    {
     "data": {
      "text/plain": [
       "'<?xml version=\"1.0\" encoding=\"UTF-8\"?>\\n<CardSubwayStatsNew>\\n<list_total_count>600</list_total_count>\\n<RESULT>\\n<CODE>INFO-000</CODE>\\n<MESSAGE>정상 처리되었습니다</MESSAGE>\\n</RESULT>\\n<row>\\n<USE_DT>20210312</USE_DT>\\n<LINE_NUM>1호선</LINE_NUM>\\n<SUB_STA_NM>서울역</SUB_STA_NM>\\n<RIDE_PASGR_NUM>44072</RIDE_PASGR_NUM>\\n<ALIGHT_PASGR_NUM>42114</ALIGHT_PASGR_NUM>\\n<WORK_DT>20210315</WORK_DT>\\n</row>\\n<row>\\n<USE_DT>20210312</USE_DT>\\n<LINE_NUM>1호선</LINE_NUM>\\n<SUB_STA_NM>동묘앞</SUB_STA_NM>\\n<RIDE_PASGR_NUM>7932</RIDE_PASGR_NUM>\\n<ALIGHT_PASGR_NUM>8423</ALIGHT_PASGR_NUM>\\n<WORK_DT>20210315</WORK_DT>\\n</row>\\n<row>\\n<USE_DT>20210312</USE_DT>\\n<LINE_NUM>1호선</LINE_NUM>\\n<SUB_STA_NM>시청</SUB_STA_NM>\\n<RIDE_PASGR_NUM>20953</RIDE_PASGR_NUM>\\n<ALIGHT_PASGR_NUM>20850</ALIGHT_PASGR_NUM>\\n<WORK_DT>20210315</WORK_DT>\\n</row>\\n<row>\\n<USE_DT>20210312</USE_DT>\\n<LINE_NUM>1호선</LINE_NUM>\\n<SUB_STA_NM>종각</SUB_STA_NM>\\n<RIDE_PASGR_NUM>34582</RIDE_PASGR_NUM>\\n<ALIGHT_PASGR_NUM>33341</ALIGHT_PASGR_NUM>\\n<WORK_DT>20210315</WORK_DT>\\n</row>\\n<row>\\n<USE_DT>20210312</USE_DT>\\n<LINE_NUM>1호선</LINE_NUM>\\n<SUB_STA_NM>종로3가</SUB_STA_NM>\\n<RIDE_PASGR_NUM>25306</RIDE_PASGR_NUM>\\n<ALIGHT_PASGR_NUM>23330</ALIGHT_PASGR_NUM>\\n<WORK_DT>20210315</WORK_DT>\\n</row>\\n<row>\\n<USE_DT>20210312</USE_DT>\\n<LINE_NUM>1호선</LINE_NUM>\\n<SUB_STA_NM>종로5가</SUB_STA_NM>\\n<RIDE_PASGR_NUM>22468</RIDE_PASGR_NUM>\\n<ALIGHT_PASGR_NUM>22298</ALIGHT_PASGR_NUM>\\n<WORK_DT>20210315</WORK_DT>\\n</row>\\n<row>\\n<USE_DT>20210312</USE_DT>\\n<LINE_NUM>1호선</LINE_NUM>\\n<SUB_STA_NM>동대문</SUB_STA_NM>\\n<RIDE_PASGR_NUM>10669</RIDE_PASGR_NUM>\\n<ALIGHT_PASGR_NUM>10199</ALIGHT_PASGR_NUM>\\n<WORK_DT>20210315</WORK_DT>\\n</row>\\n<row>\\n<USE_DT>20210312</USE_DT>\\n<LINE_NUM>1호선</LINE_NUM>\\n<SUB_STA_NM>신설동</SUB_STA_NM>\\n<RIDE_PASGR_NUM>14073</RIDE_PASGR_NUM>\\n<ALIGHT_PASGR_NUM>13833</ALIGHT_PASGR_NUM>\\n<WORK_DT>20210315</WORK_DT>\\n</row>\\n<row>\\n<USE_DT>20210312</USE_DT>\\n<LINE_NUM>1호선</LINE_NUM>\\n<SUB_STA_NM>제기동</SUB_STA_NM>\\n<RIDE_PASGR_NUM>16727</RIDE_PASGR_NUM>\\n<ALIGHT_PASGR_NUM>16898</ALIGHT_PASGR_NUM>\\n<WORK_DT>20210315</WORK_DT>\\n</row>\\n<row>\\n<USE_DT>20210312</USE_DT>\\n<LINE_NUM>1호선</LINE_NUM>\\n<SUB_STA_NM>청량리(서울시립대입구)</SUB_STA_NM>\\n<RIDE_PASGR_NUM>20345</RIDE_PASGR_NUM>\\n<ALIGHT_PASGR_NUM>20267</ALIGHT_PASGR_NUM>\\n<WORK_DT>20210315</WORK_DT>\\n</row>\\n</CardSubwayStatsNew>\\n'"
      ]
     },
     "execution_count": 7,
     "metadata": {},
     "output_type": "execute_result"
    }
   ],
   "source": [
    "xml.text"
   ]
  },
  {
   "cell_type": "markdown",
   "id": "legitimate-hebrew",
   "metadata": {},
   "source": [
    "- json() 함수를 통해 사전(dictionary) 객체를 읽어올 수 있음\n",
    "- 제공값이 json 형태일 경우에 사용"
   ]
  },
  {
   "cell_type": "code",
   "execution_count": 10,
   "id": "abstract-humor",
   "metadata": {},
   "outputs": [],
   "source": [
    "# xml.json()"
   ]
  },
  {
   "cell_type": "code",
   "execution_count": 13,
   "id": "fitted-burner",
   "metadata": {},
   "outputs": [
    {
     "data": {
      "text/plain": [
       "<?xml version=\"1.0\" encoding=\"UTF-8\"?>\n",
       "<cardsubwaystatsnew>\n",
       "<list_total_count>600</list_total_count>\n",
       "<result>\n",
       "<code>INFO-000</code>\n",
       "<message>정상 처리되었습니다</message>\n",
       "</result>\n",
       "<row>\n",
       "<use_dt>20210312</use_dt>\n",
       "<line_num>1호선</line_num>\n",
       "<sub_sta_nm>서울역</sub_sta_nm>\n",
       "<ride_pasgr_num>44072</ride_pasgr_num>\n",
       "<alight_pasgr_num>42114</alight_pasgr_num>\n",
       "<work_dt>20210315</work_dt>\n",
       "</row>\n",
       "<row>\n",
       "<use_dt>20210312</use_dt>\n",
       "<line_num>1호선</line_num>\n",
       "<sub_sta_nm>동묘앞</sub_sta_nm>\n",
       "<ride_pasgr_num>7932</ride_pasgr_num>\n",
       "<alight_pasgr_num>8423</alight_pasgr_num>\n",
       "<work_dt>20210315</work_dt>\n",
       "</row>\n",
       "<row>\n",
       "<use_dt>20210312</use_dt>\n",
       "<line_num>1호선</line_num>\n",
       "<sub_sta_nm>시청</sub_sta_nm>\n",
       "<ride_pasgr_num>20953</ride_pasgr_num>\n",
       "<alight_pasgr_num>20850</alight_pasgr_num>\n",
       "<work_dt>20210315</work_dt>\n",
       "</row>\n",
       "<row>\n",
       "<use_dt>20210312</use_dt>\n",
       "<line_num>1호선</line_num>\n",
       "<sub_sta_nm>종각</sub_sta_nm>\n",
       "<ride_pasgr_num>34582</ride_pasgr_num>\n",
       "<alight_pasgr_num>33341</alight_pasgr_num>\n",
       "<work_dt>20210315</work_dt>\n",
       "</row>\n",
       "<row>\n",
       "<use_dt>20210312</use_dt>\n",
       "<line_num>1호선</line_num>\n",
       "<sub_sta_nm>종로3가</sub_sta_nm>\n",
       "<ride_pasgr_num>25306</ride_pasgr_num>\n",
       "<alight_pasgr_num>23330</alight_pasgr_num>\n",
       "<work_dt>20210315</work_dt>\n",
       "</row>\n",
       "<row>\n",
       "<use_dt>20210312</use_dt>\n",
       "<line_num>1호선</line_num>\n",
       "<sub_sta_nm>종로5가</sub_sta_nm>\n",
       "<ride_pasgr_num>22468</ride_pasgr_num>\n",
       "<alight_pasgr_num>22298</alight_pasgr_num>\n",
       "<work_dt>20210315</work_dt>\n",
       "</row>\n",
       "<row>\n",
       "<use_dt>20210312</use_dt>\n",
       "<line_num>1호선</line_num>\n",
       "<sub_sta_nm>동대문</sub_sta_nm>\n",
       "<ride_pasgr_num>10669</ride_pasgr_num>\n",
       "<alight_pasgr_num>10199</alight_pasgr_num>\n",
       "<work_dt>20210315</work_dt>\n",
       "</row>\n",
       "<row>\n",
       "<use_dt>20210312</use_dt>\n",
       "<line_num>1호선</line_num>\n",
       "<sub_sta_nm>신설동</sub_sta_nm>\n",
       "<ride_pasgr_num>14073</ride_pasgr_num>\n",
       "<alight_pasgr_num>13833</alight_pasgr_num>\n",
       "<work_dt>20210315</work_dt>\n",
       "</row>\n",
       "<row>\n",
       "<use_dt>20210312</use_dt>\n",
       "<line_num>1호선</line_num>\n",
       "<sub_sta_nm>제기동</sub_sta_nm>\n",
       "<ride_pasgr_num>16727</ride_pasgr_num>\n",
       "<alight_pasgr_num>16898</alight_pasgr_num>\n",
       "<work_dt>20210315</work_dt>\n",
       "</row>\n",
       "<row>\n",
       "<use_dt>20210312</use_dt>\n",
       "<line_num>1호선</line_num>\n",
       "<sub_sta_nm>청량리(서울시립대입구)</sub_sta_nm>\n",
       "<ride_pasgr_num>20345</ride_pasgr_num>\n",
       "<alight_pasgr_num>20267</alight_pasgr_num>\n",
       "<work_dt>20210315</work_dt>\n",
       "</row>\n",
       "</cardsubwaystatsnew>"
      ]
     },
     "execution_count": 13,
     "metadata": {},
     "output_type": "execute_result"
    }
   ],
   "source": [
    "# soup=bs(xml.text, 'html.parser')\n",
    "soup=bs(xml.content, 'html.parser')\n",
    "soup"
   ]
  },
  {
   "cell_type": "markdown",
   "id": "normal-fantasy",
   "metadata": {},
   "source": [
    "- html을 파싱한 후 어떤 태그를 찾는 명령어: find, find_all\n",
    "- find('찾을 태그'): 파싱한 문서의 가장 첫번째 만나는 '찾을 태그'를 출력한다.\n",
    "- find_all('찾을 태그'): 파싱한 문서의 '찾을 태그' 전체를 찾아 리스트 형식으로 출력한다."
   ]
  },
  {
   "cell_type": "code",
   "execution_count": 16,
   "id": "federal-teddy",
   "metadata": {},
   "outputs": [
    {
     "name": "stdout",
     "output_type": "stream",
     "text": [
      "<use_dt>20210312</use_dt>\n",
      "[<use_dt>20210312</use_dt>, <use_dt>20210312</use_dt>, <use_dt>20210312</use_dt>, <use_dt>20210312</use_dt>, <use_dt>20210312</use_dt>, <use_dt>20210312</use_dt>, <use_dt>20210312</use_dt>, <use_dt>20210312</use_dt>, <use_dt>20210312</use_dt>, <use_dt>20210312</use_dt>]\n"
     ]
    }
   ],
   "source": [
    "print(soup.find('use_dt'))\n",
    "print(soup.find_all('use_dt'))   # soup.findAll('use_dt')"
   ]
  },
  {
   "cell_type": "code",
   "execution_count": 17,
   "id": "ready-entry",
   "metadata": {},
   "outputs": [
    {
     "name": "stdout",
     "output_type": "stream",
     "text": [
      "20210312\n"
     ]
    }
   ],
   "source": [
    "print(soup.find('use_dt').text)   # text 속성: 태그를 제거하고 글자만 출력"
   ]
  },
  {
   "cell_type": "code",
   "execution_count": 19,
   "id": "annual-consultation",
   "metadata": {},
   "outputs": [
    {
     "name": "stdout",
     "output_type": "stream",
     "text": [
      "20210312\n",
      "20210312\n",
      "20210312\n",
      "20210312\n",
      "20210312\n",
      "20210312\n",
      "20210312\n",
      "20210312\n",
      "20210312\n",
      "20210312\n"
     ]
    }
   ],
   "source": [
    "for i in soup.find_all('use_dt'):\n",
    "    print(i.text)"
   ]
  },
  {
   "cell_type": "code",
   "execution_count": 22,
   "id": "moral-prevention",
   "metadata": {},
   "outputs": [
    {
     "name": "stdout",
     "output_type": "stream",
     "text": [
      "20210312\n",
      "1호선\n",
      "서울역\n",
      "44072\n",
      "42114\n"
     ]
    }
   ],
   "source": [
    "print(soup.find('row').find('use_dt').text)\n",
    "print(soup.find('row').find('line_num').text)\n",
    "print(soup.find('row').find('sub_sta_nm').text)\n",
    "print(soup.find('row').find('ride_pasgr_num').text)\n",
    "print(soup.find('row').find('alight_pasgr_num').text)"
   ]
  },
  {
   "cell_type": "code",
   "execution_count": 34,
   "id": "arbitrary-selling",
   "metadata": {},
   "outputs": [
    {
     "name": "stdout",
     "output_type": "stream",
     "text": [
      "['20210312', '1호선', '서울역', '44072', '42114', '20210312', '1호선', '동묘앞', '7932', '8423', '20210312', '1호선', '시청', '20953', '20850', '20210312', '1호선', '종각', '34582', '33341', '20210312', '1호선', '종로3가', '25306', '23330', '20210312', '1호선', '종로5가', '22468', '22298', '20210312', '1호선', '동대문', '10669', '10199', '20210312', '1호선', '신설동', '14073', '13833', '20210312', '1호선', '제기동', '16727', '16898', '20210312', '1호선', '청량리(서울시립대입구)', '20345', '20267'] \n",
      "\n"
     ]
    },
    {
     "data": {
      "text/plain": [
       "array([['20210312', '1호선', '서울역', '44072', '42114'],\n",
       "       ['20210312', '1호선', '동묘앞', '7932', '8423'],\n",
       "       ['20210312', '1호선', '시청', '20953', '20850'],\n",
       "       ['20210312', '1호선', '종각', '34582', '33341'],\n",
       "       ['20210312', '1호선', '종로3가', '25306', '23330'],\n",
       "       ['20210312', '1호선', '종로5가', '22468', '22298'],\n",
       "       ['20210312', '1호선', '동대문', '10669', '10199'],\n",
       "       ['20210312', '1호선', '신설동', '14073', '13833'],\n",
       "       ['20210312', '1호선', '제기동', '16727', '16898'],\n",
       "       ['20210312', '1호선', '청량리(서울시립대입구)', '20345', '20267']],\n",
       "      dtype='<U12')"
      ]
     },
     "execution_count": 34,
     "metadata": {},
     "output_type": "execute_result"
    }
   ],
   "source": [
    "import numpy as np\n",
    "\n",
    "f_soup=soup.find_all('row')   # 모든 'row' 태그를 찾아 리스트형으로 저정\n",
    "\n",
    "# 찾아온 'row' 태그의 첫번째부터 마지막까지 날짜/호선/역이름/승차인원/하차인원 값 추출\n",
    "row_text=[]   # 추출된 값을 저장할 리스트변수 생성\n",
    "for row in f_soup:\n",
    "    row_text.append(row.find('use_dt').text)            # 날짜\n",
    "    row_text.append(row.find('line_num').text)          # 호선\n",
    "    row_text.append(row.find('sub_sta_nm').text)        # 역이름\n",
    "    row_text.append(row.find('ride_pasgr_num').text)    # 승차인원\n",
    "    row_text.append(row.find('alight_pasgr_num').text)  # 하차인원\n",
    "print(row_text, '\\n') \n",
    "\n",
    "tot_lst=np.array(row_text).reshape(-1, 5)  # row_text의 구조를 5개씩 묶어 2차원 행/열 구조로 변경\n",
    "tot_lst"
   ]
  },
  {
   "cell_type": "code",
   "execution_count": 31,
   "id": "floral-stick",
   "metadata": {},
   "outputs": [
    {
     "data": {
      "text/plain": [
       "[['20210312', '1호선', '서울역', '44072', '42114'],\n",
       " ['20210312', '1호선', '동묘앞', '7932', '8423'],\n",
       " ['20210312', '1호선', '시청', '20953', '20850'],\n",
       " ['20210312', '1호선', '종각', '34582', '33341'],\n",
       " ['20210312', '1호선', '종로3가', '25306', '23330'],\n",
       " ['20210312', '1호선', '종로5가', '22468', '22298'],\n",
       " ['20210312', '1호선', '동대문', '10669', '10199'],\n",
       " ['20210312', '1호선', '신설동', '14073', '13833'],\n",
       " ['20210312', '1호선', '제기동', '16727', '16898'],\n",
       " ['20210312', '1호선', '청량리(서울시립대입구)', '20345', '20267']]"
      ]
     },
     "execution_count": 31,
     "metadata": {},
     "output_type": "execute_result"
    }
   ],
   "source": [
    "f_soup = soup.find_all('row')\n",
    "tot_lst = []\n",
    "for row in f_soup:\n",
    "    row_text = []\n",
    "    row_text.append(row.find('use_dt').text)\n",
    "    row_text.append(row.find('line_num').text)\n",
    "    row_text.append(row.find('sub_sta_nm').text)\n",
    "    row_text.append(row.find('ride_pasgr_num').text)\n",
    "    row_text.append(row.find('alight_pasgr_num').text)\n",
    "    tot_lst.append(row_text)\n",
    "    \n",
    "tot_lst"
   ]
  },
  {
   "cell_type": "code",
   "execution_count": 36,
   "id": "cathedral-hebrew",
   "metadata": {},
   "outputs": [
    {
     "data": {
      "text/html": [
       "<div>\n",
       "<style scoped>\n",
       "    .dataframe tbody tr th:only-of-type {\n",
       "        vertical-align: middle;\n",
       "    }\n",
       "\n",
       "    .dataframe tbody tr th {\n",
       "        vertical-align: top;\n",
       "    }\n",
       "\n",
       "    .dataframe thead th {\n",
       "        text-align: right;\n",
       "    }\n",
       "</style>\n",
       "<table border=\"1\" class=\"dataframe\">\n",
       "  <thead>\n",
       "    <tr style=\"text-align: right;\">\n",
       "      <th></th>\n",
       "      <th>날짜</th>\n",
       "      <th>호선</th>\n",
       "      <th>역명</th>\n",
       "      <th>승차</th>\n",
       "      <th>하차</th>\n",
       "    </tr>\n",
       "  </thead>\n",
       "  <tbody>\n",
       "    <tr>\n",
       "      <th>0</th>\n",
       "      <td>20210312</td>\n",
       "      <td>1호선</td>\n",
       "      <td>서울역</td>\n",
       "      <td>44072</td>\n",
       "      <td>42114</td>\n",
       "    </tr>\n",
       "    <tr>\n",
       "      <th>1</th>\n",
       "      <td>20210312</td>\n",
       "      <td>1호선</td>\n",
       "      <td>동묘앞</td>\n",
       "      <td>7932</td>\n",
       "      <td>8423</td>\n",
       "    </tr>\n",
       "    <tr>\n",
       "      <th>2</th>\n",
       "      <td>20210312</td>\n",
       "      <td>1호선</td>\n",
       "      <td>시청</td>\n",
       "      <td>20953</td>\n",
       "      <td>20850</td>\n",
       "    </tr>\n",
       "    <tr>\n",
       "      <th>3</th>\n",
       "      <td>20210312</td>\n",
       "      <td>1호선</td>\n",
       "      <td>종각</td>\n",
       "      <td>34582</td>\n",
       "      <td>33341</td>\n",
       "    </tr>\n",
       "    <tr>\n",
       "      <th>4</th>\n",
       "      <td>20210312</td>\n",
       "      <td>1호선</td>\n",
       "      <td>종로3가</td>\n",
       "      <td>25306</td>\n",
       "      <td>23330</td>\n",
       "    </tr>\n",
       "    <tr>\n",
       "      <th>5</th>\n",
       "      <td>20210312</td>\n",
       "      <td>1호선</td>\n",
       "      <td>종로5가</td>\n",
       "      <td>22468</td>\n",
       "      <td>22298</td>\n",
       "    </tr>\n",
       "    <tr>\n",
       "      <th>6</th>\n",
       "      <td>20210312</td>\n",
       "      <td>1호선</td>\n",
       "      <td>동대문</td>\n",
       "      <td>10669</td>\n",
       "      <td>10199</td>\n",
       "    </tr>\n",
       "    <tr>\n",
       "      <th>7</th>\n",
       "      <td>20210312</td>\n",
       "      <td>1호선</td>\n",
       "      <td>신설동</td>\n",
       "      <td>14073</td>\n",
       "      <td>13833</td>\n",
       "    </tr>\n",
       "    <tr>\n",
       "      <th>8</th>\n",
       "      <td>20210312</td>\n",
       "      <td>1호선</td>\n",
       "      <td>제기동</td>\n",
       "      <td>16727</td>\n",
       "      <td>16898</td>\n",
       "    </tr>\n",
       "    <tr>\n",
       "      <th>9</th>\n",
       "      <td>20210312</td>\n",
       "      <td>1호선</td>\n",
       "      <td>청량리(서울시립대입구)</td>\n",
       "      <td>20345</td>\n",
       "      <td>20267</td>\n",
       "    </tr>\n",
       "  </tbody>\n",
       "</table>\n",
       "</div>"
      ],
      "text/plain": [
       "         날짜   호선            역명     승차     하차\n",
       "0  20210312  1호선           서울역  44072  42114\n",
       "1  20210312  1호선           동묘앞   7932   8423\n",
       "2  20210312  1호선            시청  20953  20850\n",
       "3  20210312  1호선            종각  34582  33341\n",
       "4  20210312  1호선          종로3가  25306  23330\n",
       "5  20210312  1호선          종로5가  22468  22298\n",
       "6  20210312  1호선           동대문  10669  10199\n",
       "7  20210312  1호선           신설동  14073  13833\n",
       "8  20210312  1호선           제기동  16727  16898\n",
       "9  20210312  1호선  청량리(서울시립대입구)  20345  20267"
      ]
     },
     "execution_count": 36,
     "metadata": {},
     "output_type": "execute_result"
    }
   ],
   "source": [
    "df=pd.DataFrame(tot_lst, columns=['날짜','호선','역명','승차','하차'])\n",
    "df"
   ]
  },
  {
   "cell_type": "code",
   "execution_count": null,
   "id": "5d2cc59d",
   "metadata": {},
   "outputs": [],
   "source": []
  }
 ],
 "metadata": {
  "kernelspec": {
   "display_name": "Python 3",
   "language": "python",
   "name": "python3"
  },
  "language_info": {
   "codemirror_mode": {
    "name": "ipython",
    "version": 3
   },
   "file_extension": ".py",
   "mimetype": "text/x-python",
   "name": "python",
   "nbconvert_exporter": "python",
   "pygments_lexer": "ipython3",
   "version": "3.9.5"
  }
 },
 "nbformat": 4,
 "nbformat_minor": 5
}
