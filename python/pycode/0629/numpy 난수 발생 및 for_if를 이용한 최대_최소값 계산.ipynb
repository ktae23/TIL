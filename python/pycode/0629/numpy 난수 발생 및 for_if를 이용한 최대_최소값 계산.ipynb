{
 "cells": [
  {
   "cell_type": "markdown",
   "id": "4b7a1efe",
   "metadata": {},
   "source": [
    "### numpy 모듈\n",
    "- random 모듈을 이용한 난수 발생\n",
    "- random.randint(시작값, 종료값): 시작~종료값 범위에 있는 정수를 임으로 발생"
   ]
  },
  {
   "cell_type": "code",
   "execution_count": 47,
   "id": "54995799",
   "metadata": {},
   "outputs": [
    {
     "data": {
      "text/plain": [
       "18"
      ]
     },
     "execution_count": 47,
     "metadata": {},
     "output_type": "execute_result"
    }
   ],
   "source": [
    "import numpy as np\n",
    "\n",
    "np.random.randint(10, 21)"
   ]
  },
  {
   "cell_type": "markdown",
   "id": "7223bf39",
   "metadata": {},
   "source": [
    "#### 0~50 사이의 숫자를 무작위로 생성\n",
    "- 10개의 데이터 생성\n",
    "- 생성된 숫자는 리스트형 데이터로 저장\n",
    "- for문 이용"
   ]
  },
  {
   "cell_type": "code",
   "execution_count": 48,
   "id": "343ae7c1",
   "metadata": {},
   "outputs": [
    {
     "name": "stdout",
     "output_type": "stream",
     "text": [
      "[11, 26, 41, 47, 29, 6, 32, 34, 15, 43]\n"
     ]
    }
   ],
   "source": [
    "import numpy as np\n",
    "\n",
    "rd_lst=[]\n",
    "\n",
    "for i in range(10):\n",
    "    rd_lst.append(np.random.randint(0, 51))\n",
    "\n",
    "print(rd_lst)"
   ]
  },
  {
   "cell_type": "code",
   "execution_count": 54,
   "id": "22bc7dfc",
   "metadata": {},
   "outputs": [
    {
     "name": "stdout",
     "output_type": "stream",
     "text": [
      "[50, 28, 10, 39, 32, 33, 46, 49, 20, 18]\n"
     ]
    }
   ],
   "source": [
    "rd_lst=[np.random.randint(0, 51) for i in range(10)]\n",
    "\n",
    "print(rd_lst)"
   ]
  },
  {
   "cell_type": "markdown",
   "id": "7d54ee24",
   "metadata": {},
   "source": [
    "- words 데이터에서 글자수가 4개 이상인 데이터를 찾아 new_words 에 리스트로 저장"
   ]
  },
  {
   "cell_type": "code",
   "execution_count": 50,
   "id": "a691fabd",
   "metadata": {},
   "outputs": [
    {
     "name": "stdout",
     "output_type": "stream",
     "text": [
      "['멀티캠퍼스', '티스토리', '프로그래밍']\n"
     ]
    }
   ],
   "source": [
    "words = [\"멀티캠퍼스\",\"티스토리\", \"블로그\", \"파이썬\", \"for\", \"프로그래밍\", \"반복\"]\n",
    "\n",
    "new_words=[]\n",
    "\n",
    "for word in words:\n",
    "    if len(word) > 3:\n",
    "        new_words.append(word)\n",
    "        \n",
    "print(new_words)"
   ]
  },
  {
   "cell_type": "code",
   "execution_count": 51,
   "id": "ffcbf659",
   "metadata": {},
   "outputs": [
    {
     "name": "stdout",
     "output_type": "stream",
     "text": [
      "['멀티캠퍼스', '티스토리', '프로그래밍']\n"
     ]
    }
   ],
   "source": [
    "new_words=[word for word in words if len(word) > 3]\n",
    "\n",
    "print(new_words)"
   ]
  },
  {
   "cell_type": "code",
   "execution_count": 61,
   "id": "d7365dc3",
   "metadata": {},
   "outputs": [
    {
     "name": "stdout",
     "output_type": "stream",
     "text": [
      "['이중 for문', '파이썬', '프로그래밍', '스터디']\n",
      "이중 for문\n",
      "파이썬\n",
      "프로그래밍\n",
      "스터디\n",
      "['Python', 'NLP', 'ML', 'DL']\n",
      "Python\n",
      "NLP\n",
      "ML\n",
      "DL\n",
      "['leetCode', 'BaekJoon', 'HackerRank']\n",
      "leetCode\n",
      "BaekJoon\n",
      "HackerRank\n",
      "['멀티캠퍼스', 'COMPAS', 'DACON', 'Kaggle']\n",
      "멀티캠퍼스\n",
      "COMPAS\n",
      "DACON\n",
      "Kaggle\n"
     ]
    }
   ],
   "source": [
    "words = [[ \"이중 for문\", \"파이썬\", \"프로그래밍\", \"스터디\" ], \n",
    "         [ \"Python\", \"NLP\", \"ML\", \"DL\" ], \n",
    "         [ \"leetCode\", \"BaekJoon\", \"HackerRank\" ],\n",
    "         [ \"멀티캠퍼스\", \"COMPAS\", \"DACON\", \"Kaggle\" ] ]\n",
    "\n",
    "# words가 가지고 있는 단어 출력\n",
    "for word_lst in words:\n",
    "    print(word_lst)\n",
    "    for word in word_lst:\n",
    "        print(word)"
   ]
  },
  {
   "cell_type": "code",
   "execution_count": 62,
   "id": "0039589d",
   "metadata": {},
   "outputs": [
    {
     "name": "stdout",
     "output_type": "stream",
     "text": [
      "['이중 for문', '프로그래밍', 'Python', 'leetCode', 'BaekJoon', 'HackerRank', '멀티캠퍼스', 'COMPAS', 'DACON', 'Kaggle']\n"
     ]
    }
   ],
   "source": [
    "words = [[ \"이중 for문\", \"파이썬\", \"프로그래밍\", \"스터디\" ], \n",
    "         [ \"Python\", \"NLP\", \"ML\", \"DL\" ], \n",
    "         [ \"leetCode\", \"BaekJoon\", \"HackerRank\" ],\n",
    "         [ \"멀티캠퍼스\", \"COMPAS\", \"DACON\", \"Kaggle\" ]]\n",
    "\n",
    "# words가 가지고 있는 단어의 길이가 4 이상인 데이터만 new_words에 리스트로 추가\n",
    "new_words=[]\n",
    "\n",
    "for word_lst in words:\n",
    "    for word in word_lst:\n",
    "        if len(word)>=4:\n",
    "            new_words.append(word)\n",
    "            \n",
    "print(new_words)"
   ]
  },
  {
   "cell_type": "code",
   "execution_count": 63,
   "id": "04e9a0c0",
   "metadata": {},
   "outputs": [
    {
     "name": "stdout",
     "output_type": "stream",
     "text": [
      "['이중 for문', '프로그래밍', 'Python', 'leetCode', 'BaekJoon', 'HackerRank', '멀티캠퍼스', 'COMPAS', 'DACON', 'Kaggle']\n"
     ]
    }
   ],
   "source": [
    "new_words=[word for word_lst in words for word in word_lst if len(word)>=4]\n",
    "\n",
    "print(new_words)"
   ]
  },
  {
   "cell_type": "markdown",
   "id": "9e4a2985",
   "metadata": {},
   "source": [
    "### random 모듈을 이용한 리스트 값 발생\n",
    "- 기준: 0 ~ 50 사이의 난수 발생\n",
    "- 1세트당 인수가(값) 10 ~ 20 사이의 값을 갖는다.\n",
    "- 전체 세트: 5세트 생성\n",
    "- 예) [[0, 24, 3, ...], [44, 14, 8, ...],[0, 3, 12, ...],[49, 24, 13, ...],[0, 24, 3, ...]]"
   ]
  },
  {
   "cell_type": "code",
   "execution_count": 64,
   "id": "49433467",
   "metadata": {},
   "outputs": [],
   "source": [
    "import numpy as np"
   ]
  },
  {
   "cell_type": "code",
   "execution_count": 67,
   "id": "98af53cb",
   "metadata": {},
   "outputs": [
    {
     "name": "stdout",
     "output_type": "stream",
     "text": [
      "22\n",
      "47\n",
      "[36 31 19 35 17 30 16 21  1  2]\n",
      "[22 42 50 18 41 27 47 13 21 33]\n"
     ]
    }
   ],
   "source": [
    "print(np.random.randint(51))  # 0~50 사이의 정수형 1개 발생\n",
    "print(np.random.randint(25, 51)) # 25~50 사이의 난수 발생\n",
    "print(np.random.randint(0, 51, 10))      # 0~50 사이의 난수를 10개 발생\n",
    "print(np.random.randint(0, 51, size=10))\n",
    "print(np.random.randint(51, size=10))"
   ]
  },
  {
   "cell_type": "markdown",
   "id": "9a8ad135",
   "metadata": {},
   "source": [
    "### 요구사항: 리스트 개체를 생성하는 코드를 작성해주세요\n",
    "- 리스트 개체는 총 5개의 리스트 요소를 가지고 있고 각 리스트 요소마다 10에서 20개 사의 값을 가지고 있습니다.\n",
    "-이 값은 0 ~ 50 사이의 임의의 값으로 만들어져 있습니다.\n",
    "-[[0, 24, 3, ..20], [44, 14, 8, ..10], [0, 3, 12, ..13], [49, 24, 13, ..15], [0, 24, 3, ..17]]\n",
    "#### 문제 해결 알고리즘\n",
    "- 10~20 size 발생: random.randint(10, 21) ==> size\n",
    "- 0~50 사이값 발생: random.randint(0, 51, size=10-20)\n",
    "- 리스트 인수 5개 생성: for i range(5)"
   ]
  },
  {
   "cell_type": "code",
   "execution_count": null,
   "id": "f6bd5de6",
   "metadata": {},
   "outputs": [],
   "source": [
    "[[24, 30, 37, 43, 24, 8, 30, 50, 9, 6],\n",
    " [16, 48, 41, 28, 44, 20, 8, 34, 44, 50, 50, 48, 50, 34, 48, 43, 34, 39, 46],\n",
    " [50, 49, 40, 17, 29, 26, 34, 35, 26, 2, 18],\n",
    " [15, 22, 3, 8, 36, 36, 34, 25, 32, 17, 45, 3, 11, 2, 37, 39],\n",
    " [31, 44, 0, 41, 6, 4, 43, 43, 7, 44, 19, 43]]"
   ]
  },
  {
   "cell_type": "code",
   "execution_count": 72,
   "id": "000dd75d",
   "metadata": {},
   "outputs": [
    {
     "data": {
      "text/plain": [
       "[[34, 0, 22, 34, 19, 28, 38, 12, 49, 2],\n",
       " [9, 6, 8, 23, 3, 31, 10, 2, 42, 10, 11, 40, 10],\n",
       " [17, 50, 7, 49, 2, 36, 46, 5, 27, 13, 44, 16, 47, 10, 7, 18],\n",
       " [12, 42, 1, 1, 41, 39, 13, 43, 26, 2, 10, 43],\n",
       " [30, 22, 10, 6, 36, 45, 47, 46, 5, 32, 4, 31]]"
      ]
     },
     "execution_count": 72,
     "metadata": {},
     "output_type": "execute_result"
    }
   ],
   "source": [
    "import numpy as np\n",
    "\n",
    "rd_lst=[]\n",
    "for i in range(5) :\n",
    "    size_n=np.random.randint(10,21)\n",
    "    rd_lst.append(list(np.random.randint(51,size=size_n)))\n",
    "    \n",
    "rd_lst"
   ]
  },
  {
   "cell_type": "code",
   "execution_count": 73,
   "id": "ec3f22e6",
   "metadata": {},
   "outputs": [
    {
     "data": {
      "text/plain": [
       "[[2, 24, 34, 10, 25, 9, 44, 33, 34, 9, 6, 27, 14],\n",
       " [36, 6, 26, 13, 20, 25, 8, 30, 25, 19, 26, 43, 13, 35, 26, 28],\n",
       " [44, 14, 44, 20, 47, 23, 43, 2, 12, 38, 11, 12, 33],\n",
       " [14, 22, 39, 19, 18, 39, 15, 24, 18, 5, 19, 39, 13, 20, 7, 3, 4, 30],\n",
       " [39, 24, 16, 21, 40, 35, 34, 44, 43, 28, 12, 0, 24]]"
      ]
     },
     "execution_count": 73,
     "metadata": {},
     "output_type": "execute_result"
    }
   ],
   "source": [
    "import numpy as np\n",
    "\n",
    "rd_lst=[]\n",
    "for i in range(5) :\n",
    "    rd_lst.append(list(np.random.randint(51,size=np.random.randint(10,21))))\n",
    "    \n",
    "rd_lst"
   ]
  },
  {
   "cell_type": "code",
   "execution_count": 74,
   "id": "f539fedc",
   "metadata": {},
   "outputs": [
    {
     "data": {
      "text/plain": [
       "[[34, 23, 20, 43, 1, 5, 2, 14, 18, 24, 40, 18, 38, 4, 3, 22, 43, 6, 36, 13],\n",
       " [34, 5, 5, 14, 27, 30, 50, 16, 29, 27, 50, 27],\n",
       " [33, 7, 12, 25, 31, 37, 20, 25, 34, 39, 39, 8, 21, 0, 2],\n",
       " [26, 44, 45, 19, 4, 36, 16, 36, 22, 9, 29],\n",
       " [35, 10, 18, 47, 34, 35, 24, 39, 11, 6, 4, 7, 16, 6, 36, 46, 42, 41]]"
      ]
     },
     "execution_count": 74,
     "metadata": {},
     "output_type": "execute_result"
    }
   ],
   "source": [
    "rd_lst=[list(np.random.randint(51,size=np.random.randint(10,21))) for i in range(5)]\n",
    "rd_lst"
   ]
  },
  {
   "cell_type": "markdown",
   "id": "e203e4c2",
   "metadata": {},
   "source": [
    "### [요구사항] 입력된 숫자 데이터에서 최대값/최소값/합계 계산\n",
    "- 1. data에 입력된 값을 기준으로 계산\n",
    "- 2. 위에서 생성된 rd_lst 데이터를 이용해 계산\n",
    "\n",
    "#### 제한조건\n",
    "- sum(), max(), min() 함수 사용 금지"
   ]
  },
  {
   "cell_type": "code",
   "execution_count": 75,
   "id": "32b4dd0f",
   "metadata": {},
   "outputs": [
    {
     "name": "stdout",
     "output_type": "stream",
     "text": [
      "최대값:43, 최소값:1, 합계:407\n"
     ]
    }
   ],
   "source": [
    "data=[34, 23, 20, 43, 1, 5, 2, 14, 18, 24, 40, 18, 38, 4, 3, 22, 43, 6, 36, 13]\n",
    "\n",
    "tmpMax=data[0]\n",
    "tmpMin=data[0]\n",
    "tmpSum=0\n",
    "\n",
    "for dt in data:\n",
    "    # 최대값\n",
    "    if dt > tmpMax:\n",
    "        tmpMax=dt\n",
    "    \n",
    "    # 최소값\n",
    "    if dt < tmpMin:\n",
    "        tmpMin=dt\n",
    "        \n",
    "    # 합계\n",
    "    tmpSum += dt\n",
    "    \n",
    "print(f'최대값:{tmpMax}, 최소값:{tmpMin}, 합계:{tmpSum}')\n"
   ]
  },
  {
   "cell_type": "code",
   "execution_count": 81,
   "id": "aa67c476",
   "metadata": {},
   "outputs": [
    {
     "data": {
      "text/plain": [
       "[[12, 32, 14, 45, 28, 43, 29, 13, 50, 9, 43, 28],\n",
       " [37, 24, 14, 6, 30, 30, 13, 13, 48, 48, 16, 39],\n",
       " [23, 45, 36, 26, 5, 20, 0, 28, 8, 25, 37, 29, 28, 37, 11, 19, 13, 50, 29],\n",
       " [49, 23, 20, 47, 15, 14, 31, 10, 39, 9, 4, 40, 48, 48, 37],\n",
       " [5, 34, 42, 37, 1, 9, 26, 13, 37, 6, 19, 29, 11, 30, 13]]"
      ]
     },
     "execution_count": 81,
     "metadata": {},
     "output_type": "execute_result"
    }
   ],
   "source": [
    "rd_lst=[list(np.random.randint(51,size=np.random.randint(10,21))) for i in range(5)]\n",
    "rd_lst"
   ]
  },
  {
   "cell_type": "code",
   "execution_count": 84,
   "id": "9d815bd4",
   "metadata": {},
   "outputs": [
    {
     "name": "stdout",
     "output_type": "stream",
     "text": [
      "최대값:50, 최소값:0, 합계:1879\n"
     ]
    }
   ],
   "source": [
    "tmpMax=rd_lst[0][0]\n",
    "tmpMin=rd_lst[0][0]\n",
    "tmpSum=0\n",
    "\n",
    "for dt_lst in rd_lst:\n",
    "    for dt in dt_lst:\n",
    "        # 최대값\n",
    "        if dt > tmpMax:\n",
    "            tmpMax=dt\n",
    "\n",
    "        # 최소값\n",
    "        if dt < tmpMin:\n",
    "            tmpMin=dt\n",
    "\n",
    "        # 합계\n",
    "        tmpSum += dt\n",
    "\n",
    "print(f'최대값:{tmpMax}, 최소값:{tmpMin}, 합계:{tmpSum}')\n"
   ]
  },
  {
   "cell_type": "code",
   "execution_count": 85,
   "id": "28a7efdd",
   "metadata": {},
   "outputs": [
    {
     "name": "stdout",
     "output_type": "stream",
     "text": [
      "최대값:50, 최소값:0, 합계:1879\n"
     ]
    }
   ],
   "source": [
    "tmp_lst=[0, rd_lst[0][0], rd_lst[0][0]]\n",
    "\n",
    "for dt_lst in rd_lst:\n",
    "    for dt in dt_lst:\n",
    "        # 최대값\n",
    "        if dt > tmp_lst[1]:\n",
    "            tmp_lst[1]=dt\n",
    "\n",
    "        # 최소값\n",
    "        if dt < tmp_lst[2]:\n",
    "            tmp_lst[2]=dt\n",
    "\n",
    "        # 합계\n",
    "        tmp_lst[0] += dt\n",
    "\n",
    "print(f'최대값:{tmp_lst[1]}, 최소값:{tmp_lst[2]}, 합계:{tmp_lst[0]}')"
   ]
  },
  {
   "cell_type": "markdown",
   "id": "c8d9e07b",
   "metadata": {},
   "source": [
    "### 각 그룹별 계산\n",
    "- 그룹단위 최대값/최소값/합계\n",
    "- 전체 최대값/최소값/합계"
   ]
  },
  {
   "cell_type": "code",
   "execution_count": 86,
   "id": "1dd48a71",
   "metadata": {},
   "outputs": [
    {
     "data": {
      "text/plain": [
       "[[3, 22, 43, 6, 39, 27, 45, 49, 36, 13, 26, 17, 49],\n",
       " [47, 37, 26, 6, 8, 45, 22, 14, 5, 23, 5, 6],\n",
       " [48, 8, 2, 25, 33, 30, 24, 39, 28, 14, 2, 42, 29, 38, 11],\n",
       " [22, 2, 49, 13, 42, 39, 16, 17, 36, 26, 4, 4, 41, 37, 13],\n",
       " [48, 0, 8, 24, 47, 43, 3, 2, 40, 28, 37]]"
      ]
     },
     "execution_count": 86,
     "metadata": {},
     "output_type": "execute_result"
    }
   ],
   "source": [
    "rd_lst=[list(np.random.randint(51,size=np.random.randint(10,21))) for i in range(5)]\n",
    "rd_lst"
   ]
  },
  {
   "cell_type": "code",
   "execution_count": 88,
   "id": "af72ca73",
   "metadata": {},
   "outputs": [
    {
     "name": "stdout",
     "output_type": "stream",
     "text": [
      "그룹별\n",
      " [[375, 49, 3], [244, 47, 5], [373, 48, 2], [361, 49, 2], [280, 48, 0]] \n",
      "\n",
      "전체데이터: [1633, 49, 0]\n"
     ]
    }
   ],
   "source": [
    "T_lst=[0, rd_lst[0][0], rd_lst[0][0]]  # 전체 값 계산 리스트 변수\n",
    "G_lst=[]   # 그룹별 최대값/최소값/합계를 저장할 리스트(출력)\n",
    "\n",
    "for lst in rd_lst:\n",
    "    tmp_lst=[0, lst[0], lst[0]]  # 그룹별 계산 리스트 변수/초기화\n",
    "    \n",
    "    for dt in lst:\n",
    "        if dt > tmp_lst[1]:  # 그룹내에서 최대값 찾기\n",
    "            tmp_lst[1]=dt\n",
    "            \n",
    "        if dt < tmp_lst[2]:  # 그룹내에서 최소값 찾기\n",
    "            tmp_lst[2]=dt\n",
    "            \n",
    "        tmp_lst[0]=tmp_lst[0]+dt  # 그룹별 합계 계산  / tmp_lst[0] += dt\n",
    "        \n",
    "    G_lst.append(tmp_lst)    # 그룹별 계산 결과 리트스에 추가\n",
    "    \n",
    "    # 전체 데이터 누적합계 및 최대값/최소값 찾기\n",
    "    T_lst[0] = T_lst[0]+tmp_lst[0]  # 전체 누적 합계\n",
    "    \n",
    "    if tmp_lst[1] > T_lst[1]:   # 전체 최대값 찾기\n",
    "        T_lst[1]=tmp_lst[1]\n",
    "        \n",
    "    if tmp_lst[2] < T_lst[2]:   # 전체 최소값 찾기\n",
    "        T_lst[2]=tmp_lst[2]\n",
    "        \n",
    "print('그룹별\\n', G_lst, \"\\n\")\n",
    "print('전체데이터:', T_lst)    "
   ]
  }
 ],
 "metadata": {
  "kernelspec": {
   "display_name": "Python 3",
   "language": "python",
   "name": "python3"
  },
  "language_info": {
   "codemirror_mode": {
    "name": "ipython",
    "version": 3
   },
   "file_extension": ".py",
   "mimetype": "text/x-python",
   "name": "python",
   "nbconvert_exporter": "python",
   "pygments_lexer": "ipython3",
   "version": "3.9.5"
  }
 },
 "nbformat": 4,
 "nbformat_minor": 5
}
