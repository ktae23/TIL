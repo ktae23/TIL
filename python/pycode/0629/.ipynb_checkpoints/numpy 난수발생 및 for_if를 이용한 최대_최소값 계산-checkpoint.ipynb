{
 "cells": [
  {
   "cell_type": "code",
   "execution_count": 6,
   "id": "0182f83c",
   "metadata": {},
   "outputs": [
    {
     "name": "stdout",
     "output_type": "stream",
     "text": [
      "Collecting numpy\n",
      "  Downloading numpy-1.21.0-cp39-cp39-win_amd64.whl (14.0 MB)\n",
      "Installing collected packages: numpy\n",
      "Successfully installed numpy-1.21.0\n"
     ]
    }
   ],
   "source": [
    "!pip install numpy"
   ]
  },
  {
   "cell_type": "code",
   "execution_count": 8,
   "id": "2b7af159",
   "metadata": {},
   "outputs": [
    {
     "data": {
      "text/plain": [
       "14"
      ]
     },
     "execution_count": 8,
     "metadata": {},
     "output_type": "execute_result"
    }
   ],
   "source": [
    "import numpy as np\n",
    "\n",
    "np.random.randint(10,21)"
   ]
  },
  {
   "cell_type": "code",
   "execution_count": 12,
   "id": "d2a94ca4",
   "metadata": {},
   "outputs": [
    {
     "name": "stdout",
     "output_type": "stream",
     "text": [
      "44\n",
      "48\n",
      "43\n",
      "10\n",
      "30\n",
      "4\n",
      "3\n",
      "46\n",
      "41\n",
      "50\n",
      "[44, 48, 43, 10, 30, 4, 3, 46, 41, 50]\n"
     ]
    }
   ],
   "source": [
    "lst=[]\n",
    "for i in range(10):\n",
    "    lst.append(np.random.randint(0,51))\n",
    "    print(lst[i])\n",
    "print(lst)"
   ]
  },
  {
   "cell_type": "code",
   "execution_count": 105,
   "id": "99e8069e",
   "metadata": {},
   "outputs": [
    {
     "name": "stdout",
     "output_type": "stream",
     "text": [
      "0\n"
     ]
    }
   ],
   "source": [
    "print(np.random.randint(0,1))"
   ]
  },
  {
   "cell_type": "code",
   "execution_count": 123,
   "id": "678dadf8",
   "metadata": {},
   "outputs": [
    {
     "data": {
      "text/plain": [
       "[[37, 40, 19, 10, 11, 28, 42, 35, 5, 31, 50, 11, 25, 36, 18, 13, 17, 41],\n",
       " [49, 13, 5, 20, 22, 36, 29, 15],\n",
       " [2, 2, 4, 34, 15],\n",
       " [45],\n",
       " [5, 47, 37, 19, 30, 48, 27, 13]]"
      ]
     },
     "execution_count": 123,
     "metadata": {},
     "output_type": "execute_result"
    }
   ],
   "source": [
    "lst=[]\n",
    "for j in range(5):\n",
    "    tmp=[]\n",
    "    for i in range(np.random.randint(0,21)):\n",
    "        tmp.append(np.random.randint(0,51))\n",
    "    lst.append(tmp)\n",
    "lst"
   ]
  },
  {
   "cell_type": "code",
   "execution_count": 131,
   "id": "da3c7ff2",
   "metadata": {},
   "outputs": [
    {
     "data": {
      "text/plain": [
       "[[15, 38, 3, 48, 9, 46, 27, 1, 44, 50, 21, 5, 31, 37, 5, 10, 1, 12, 38, 34],\n",
       " [19, 28, 1, 11, 3, 37, 31, 30, 17, 23, 35, 11, 31, 34, 17, 45, 20, 27],\n",
       " [18, 47, 35, 12, 48],\n",
       " [6, 12, 13, 47, 39, 43, 44, 31, 34, 36, 41, 11, 27],\n",
       " [50, 0, 16, 2, 49]]"
      ]
     },
     "execution_count": 131,
     "metadata": {},
     "output_type": "execute_result"
    }
   ],
   "source": [
    "rd_lst=[]\n",
    "for i in range(5):\n",
    "    rd_lst.append(list(np.random.randint(0,51,size=np.random.randint(0,21))))\n",
    "\n",
    "rd_lst"
   ]
  },
  {
   "cell_type": "code",
   "execution_count": 139,
   "id": "afed6343",
   "metadata": {},
   "outputs": [
    {
     "data": {
      "text/plain": [
       "[[48, 4, 1, 42, 29, 6, 19, 17, 1, 35, 42, 36, 41, 8, 34],\n",
       " [12, 23],\n",
       " [48, 25, 27, 23, 19, 41, 22, 6, 11, 42, 5, 45, 33, 42, 34, 8, 8, 34],\n",
       " [29, 21, 3],\n",
       " [36, 0, 24, 33, 34, 29, 11, 7, 22, 50, 6, 24, 28, 32, 26]]"
      ]
     },
     "execution_count": 139,
     "metadata": {},
     "output_type": "execute_result"
    }
   ],
   "source": [
    "rd_lst=[list(np.random.randint(0,51,size=np.random.randint(0,21))) for i in range(5)]\n",
    "\n",
    "rd_lst"
   ]
  },
  {
   "cell_type": "raw",
   "id": "f3bc3f89",
   "metadata": {},
   "source": [
    "rd_lst=[list(np.random.randint(0,51,size=np.random.randint(0,21))) for i in range(5)]\n",
    "\n",
    "rd_lst"
   ]
  },
  {
   "cell_type": "code",
   "execution_count": 134,
   "id": "da98f6aa",
   "metadata": {},
   "outputs": [
    {
     "name": "stdout",
     "output_type": "stream",
     "text": [
      "[array([16,  9, 29, 45, 36,  8, 40, 39, 44, 18, 40, 21, 18,  1]), array([25, 38, 38, 27,  1, 16, 29, 31, 39, 50, 15, 14, 45,  5,  5, 49, 15,\n",
      "       29]), array([36, 38, 29, 11,  3, 10, 38, 43, 20, 13, 13, 48,  6, 45,  2, 12, 32,\n",
      "       13,  8,  0]), array([39, 23, 19,  5, 40,  7, 48, 22, 39, 14, 44,  0, 21, 25,  7, 43, 13,\n",
      "       36]), array([ 0, 43, 22, 31, 24, 33, 46, 26,  4, 19, 16, 44,  9, 46, 23, 39])]\n"
     ]
    }
   ],
   "source": [
    "\n",
    "rd_lst=[]\n",
    "for i in range(5) :\n",
    "    rd_lst.append(np.random.randint(0,51,size=np.random.randint(10,21)))\n",
    "    \n",
    "print(rd_lst)\n"
   ]
  },
  {
   "cell_type": "code",
   "execution_count": 140,
   "id": "d303a748",
   "metadata": {},
   "outputs": [],
   "source": [
    "data=[34, 23, 20, 43, 1, 5, 2, 14, 18, 24, 40, 18, 38, 4, 3, 22, 43, 6, 36, 13]"
   ]
  },
  {
   "cell_type": "code",
   "execution_count": 154,
   "id": "d449c269",
   "metadata": {},
   "outputs": [
    {
     "name": "stdout",
     "output_type": "stream",
     "text": [
      "44\n",
      "1 43\n"
     ]
    }
   ],
   "source": [
    "max=data[0]\n",
    "min=data[0]\n",
    "sum = 0\n",
    "for dt in data:\n",
    "    if dt > max:\n",
    "        max = dt\n",
    "    if dt < min:\n",
    "        min = dt\n",
    "sum=min+max\n",
    "print(sum)\n",
    "print(min,max)"
   ]
  }
 ],
 "metadata": {
  "kernelspec": {
   "display_name": "Python 3",
   "language": "python",
   "name": "python3"
  },
  "language_info": {
   "codemirror_mode": {
    "name": "ipython",
    "version": 3
   },
   "file_extension": ".py",
   "mimetype": "text/x-python",
   "name": "python",
   "nbconvert_exporter": "python",
   "pygments_lexer": "ipython3",
   "version": "3.9.5"
  }
 },
 "nbformat": 4,
 "nbformat_minor": 5
}
